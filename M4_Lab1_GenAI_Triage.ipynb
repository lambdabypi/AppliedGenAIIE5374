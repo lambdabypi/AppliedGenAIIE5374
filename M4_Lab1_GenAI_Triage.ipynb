{
  "cells": [
    {
      "cell_type": "markdown",
      "metadata": {
        "id": "view-in-github",
        "colab_type": "text"
      },
      "source": [
        "<a href=\"https://colab.research.google.com/github/lambdabypi/AppliedGenAIIE5374/blob/main/M4_Lab1_GenAI_Triage.ipynb\" target=\"_parent\"><img src=\"https://colab.research.google.com/assets/colab-badge.svg\" alt=\"Open In Colab\"/></a>"
      ]
    },
    {
      "cell_type": "markdown",
      "metadata": {
        "id": "2rjpeWFQbxqj"
      },
      "source": [
        "<div style=\"background: linear-gradient(135deg, #001a70 0%, #0055d4 100%); color: white; padding: 25px; margin-bottom: 20px; text-align: center; border-radius: 10px;\">\n",
        "<h1 style=\"font-size: 32px; margin-bottom: 10px;\">GenAI-Assisted Medical Triage System</h1>\n",
        "<p style=\"margin: 0; font-size: 16px;\">Enhancing clinical decision support with artificial intelligence</p>\n",
        "<p style=\"margin-top: 10px; font-size: 18px; font-weight: bold;\">Dr. Dehghani</p>\n",
        "</div>\n",
        "\n",
        "<div style=\"background: #f0f5ff; border-radius: 12px; padding: 20px; margin-bottom: 25px; border: 1px solid #0055d4;\">\n",
        "<h2 style=\"color: #0055d4; margin-top: 0; font-size: 24px; padding-bottom: 10px; border-bottom: 2px solid #0055d4;\">Overview</h2>\n",
        "\n",
        "<p style=\"line-height: 1.8; font-size: 16px;\">This notebook demonstrates a GenAI-assisted medical triage system with two key components:</p>\n",
        "\n",
        "<div style=\"display: flex; flex-wrap: wrap; gap: 15px; margin-top: 15px;\">\n",
        "    <div style=\"display: flex; align-items: center; background-color: white; padding: 10px 15px; border-radius: 8px; border-left: 3px solid #0055d4;\"><span style=\"font-size: 24px; margin-right: 10px;\">👤</span> <span><strong>Patient Generation</strong>: Using Gemini to create synthetic patient profiles</span></div>\n",
        "    <div style=\"display: flex; align-items: center; background-color: white; padding: 10px 15px; border-radius: 8px; border-left: 3px solid #0055d4;\"><span style=\"font-size: 24px; margin-right: 10px;\">🏥</span> <span><strong>Triage Decision-Making</strong>: Using ChatGPT to evaluate and assign triage levels</span></div>\n",
        "</div>\n",
        "\n",
        "<p style=\"margin-top: 20px; font-style: italic; color: #0055d4;\">The system generates patient information, processes it through a triage model, and provides clinical rationale for each decision.</p>\n",
        "\n",
        "<hr style=\"margin: 20px 0; border: 0; border-top: 1px solid #ddd;\">\n",
        "\n",
        "<p style=\"font-size: 14px; color: #666;\"><strong style=\"color: #f39c12;\">Note:</strong> This demonstration is for educational purposes only and requires significant modifications for real-world clinical applications.</p>\n",
        "</div>\n",
        "\n",
        "<div style=\"background: white; border-radius: 12px; padding: 20px; margin-bottom: 25px; border: 1px solid #e0e0e0;\">\n",
        "<h2 style=\"color: #0055d4; margin-top: 0; font-size: 24px; padding-bottom: 10px; border-bottom: 2px solid #0055d4;\">Learning Objectives</h2>\n",
        "\n",
        "<ul style=\"line-height: 1.8; font-size: 16px;\">\n",
        "<li>Demonstrating the use of GenAI for medical applications</li>\n",
        "<li>Implementing prompt engineering techniques in healthcare contexts</li>\n",
        "<li>Integrating multiple AI models (Gemini and ChatGPT) in LangChain</li>\n",
        "<li>Understanding AI-assisted clinical decision support systems</li>\n",
        "</ul>\n",
        "</div>\n"
      ]
    },
    {
      "cell_type": "markdown",
      "metadata": {
        "id": "4-ovGuTrbxqn"
      },
      "source": [
        "<div style=\"margin-bottom: 25px; padding-left: 15px; border-left: 4px solid #0055d4;\">\n",
        "<h2 style=\"color: #0055d4; margin-top: 0; font-size: 24px; padding-bottom: 10px; border-bottom: 2px solid #e0e0e0;\">Imports and Setup</h2>\n",
        "\n",
        "<p style=\"line-height: 1.6; font-size: 16px; color: #666;\">Import necessary libraries and configure API access for Gemini and OpenAI models.</p>\n",
        "</div>"
      ]
    },
    {
      "cell_type": "code",
      "execution_count": 1,
      "metadata": {
        "id": "IJZj9OjKbxqn",
        "outputId": "da0aaa2c-ccca-4fb1-c798-442b6800f673",
        "colab": {
          "base_uri": "https://localhost:8080/"
        }
      },
      "source": [
        "# 📦 Importing Libraries\n",
        "import os # Operating system interactions (basic)\n",
        "import json # Working with JSON data (basic)\n",
        "import time # Time-related functions (basic)\n",
        "import random # Generating random numbers (basic)\n",
        "import pandas as pd # Data manipulation and analysis (major)\n",
        "import matplotlib.pyplot as plt # Plotting and visualization (major)\n",
        "import seaborn as sns # Enhanced data visualization (major)\n",
        "from datetime import datetime # Date and time operations (basic)\n",
        "from google.colab import userdata # Secure access to Colab user data (Colab specific)\n",
        "import google.generativeai as genai # Interacting with Google's GenAI models (major)\n",
        "import openai # Interacting with OpenAI models (major)\n",
        "from IPython.display import display, Markdown, HTML # Displaying rich output in notebooks (notebook specific)\n",
        "\n",
        "# Set visual styles\n",
        "plt.style.use('ggplot')\n",
        "sns.set(style=\"whitegrid\")\n",
        "\n",
        "print(\"Libraries imported successfully.\")"
      ],
      "outputs": [
        {
          "output_type": "stream",
          "name": "stdout",
          "text": [
            "Libraries imported successfully.\n"
          ]
        }
      ]
    },
    {
      "cell_type": "markdown",
      "metadata": {
        "id": "wSf_6zKdbxqo"
      },
      "source": [
        "<div style=\"background: white; border-radius: 12px; padding: 20px; margin-bottom: 25px; border: 1px solid #0055d4;\">\n",
        "<h3 style=\"color: #0055d4; margin-top: 0; font-size: 20px;\">API Keys Setup</h3>\n",
        "<p>Configure your API keys for Gemini and OpenAI models. For security, use Colab Secrets whenever possible.</p>\n",
        "</div>"
      ]
    },
    {
      "cell_type": "code",
      "execution_count": 3,
      "metadata": {
        "id": "UjbCzcEPbxqo",
        "outputId": "b6ec36f5-db5d-4f7c-be2a-b714a76f3502",
        "colab": {
          "base_uri": "https://localhost:8080/"
        }
      },
      "source": [
        "# 🔑 Get API keys from Colab Secrets\n",
        "# You need to set these up in your Colab environment under \"Secrets\"\n",
        "\n",
        "# Uncomment these lines when running in Colab\n",
        "openai.api_key = userdata.get('OPENAI_API_KEY')\n",
        "genai.configure(api_key=userdata.get('GEMINI_API_KEY'))\n",
        "\n",
        "# For demonstration purposes, you can set keys directly (not recommended for shared notebooks)\n",
        "# openai.api_key = \"your-openai-api-key\"\n",
        "# genai.configure(api_key=\"your-gemini-api-key\")\n",
        "\n",
        "print(\"API keys configured successfully.\")\n",
        "# Use API Key name shoud be OPENAI_API_KEY and GEMINI_API_KEY, otherwise please fix it manually on the code"
      ],
      "outputs": [
        {
          "output_type": "stream",
          "name": "stdout",
          "text": [
            "API keys configured successfully.\n"
          ]
        }
      ]
    },
    {
      "cell_type": "markdown",
      "metadata": {
        "id": "aGKKBWBkbxqp"
      },
      "source": [
        "<div style=\"background: linear-gradient(135deg, #f0f5ff 0%, #e6f0ff 100%); border-radius: 12px; padding: 25px; margin-bottom: 25px; border: 1px solid #0055d4;\">\n",
        "<h2 style=\"color: #0055d4; margin-top: 0; font-size: 24px; padding-bottom: 10px; border-bottom: 2px solid #0055d4;\">👨‍⚕️ Patient Generation Functions</h2>\n",
        "<p style=\"line-height: 1.6;\">These functions use the Gemini model to generate synthetic patient profiles with realistic medical details for emergency department triage simulation.</p>\n",
        "<div style=\"background-color: white; padding: 15px; border-radius: 8px; margin-top: 15px;\">\n",
        "    <h3 style=\"color: #0055d4; margin-top: 0;\">Key Functions:</h3>\n",
        "    <ul style=\"padding-left: 20px;\">\n",
        "        <li><strong>generate_patient()</strong>: Creates synthetic patient data using Gemini's generative AI, including demographics, symptoms, medical history, and vital signs</li>\n",
        "        <li><strong>format_patient_data()</strong>: Transforms the generated JSON data into a readable format for display</li>\n",
        "    </ul>\n",
        "</div>\n",
        "<div style=\"background-color: white; padding: 15px; border-radius: 8px; margin-top: 15px;\">\n",
        "    <h3 style=\"color: #0055d4; margin-top: 0;\">Triage Classification:</h3>\n",
        "    <p>The system uses the Emergency Severity Index (ESI) with 5 levels:</p>\n",
        "    <ol style=\"padding-left: 20px;\">\n",
        "        <li><span style=\"color: #ff0000;\"><strong>Immediate (Red)</strong></span>: Life-threatening conditions requiring immediate attention</li>\n",
        "        <li><span style=\"color: #ff9900;\"><strong>Very Urgent (Orange)</strong></span>: Potentially life-threatening, requires rapid assessment</li>\n",
        "        <li><span style=\"color: #ffcc00;\"><strong>Urgent (Yellow)</strong></span>: Serious but stable condition requiring timely assessment</li>\n",
        "        <li><span style=\"color: #00cc00;\"><strong>Standard (Green)</strong></span>: Standard cases with no immediate danger</li>\n",
        "        <li><span style=\"color: #0099ff;\"><strong>Non-Urgent (Blue)</strong></span>: Minor conditions that can safely wait</li>\n",
        "    </ol>\n",
        "</div>\n",
        "<div style=\"background-color: #fff9e6; padding: 15px; border-radius: 8px; margin-top: 15px; border-left: 4px solid #ffc107;\">\n",
        "    <h3 style=\"color: #996600; margin-top: 0;\">Notes on Implementation:</h3>\n",
        "    <ul style=\"padding-left: 20px; line-height: 1.7;\">\n",
        "        <li><strong>Prompt Design:</strong> The prompt uses a Chain-of-Thought approach to guide the LLM through generating diverse and realistic patient profiles. It includes specific distribution instructions (e.g., 1 in 5 cases should be pediatric) to ensure variety.</li>\n",
        "        <li><strong>Limitations:</strong> Despite careful prompt engineering, generated data may still exhibit bias and might not perfectly represent all age groups, genders, or medical conditions. Multiple rounds of iteration were needed to improve the prompt, but further enhancements are possible.</li>\n",
        "        <li><strong>Error Handling:</strong> The code includes robust error handling to manage potential issues with LLM responses, including JSON parsing and formatting challenges.</li>\n",
        "        <li><strong>Consistency Controls:</strong> The prompt includes instructions to ensure medical history, medications, and vital signs are internally consistent and appropriate for the patient's profile.</li>\n",
        "        <li><strong>Response Cleaning:</strong> Special processing is needed to extract clean JSON from the LLM response, as models sometimes include markdown formatting or explanatory text.</li>\n",
        "    </ul>\n",
        "</div>\n",
        "</div>"
      ]
    },
    {
      "cell_type": "code",
      "execution_count": 4,
      "metadata": {
        "id": "-6jgwcsSbxqp"
      },
      "source": [
        "# Define triage levels\n",
        "TRIAGE_LEVELS = {\n",
        "    1: \"Immediate (Red): Life-threatening conditions requiring immediate attention\",\n",
        "    2: \"Very Urgent (Orange): Potentially life-threatening, requires rapid assessment\",\n",
        "    3: \"Urgent (Yellow): Serious but stable condition requiring timely assessment\",\n",
        "    4: \"Standard (Green): Standard cases with no immediate danger\",\n",
        "    5: \"Non-Urgent (Blue): Minor conditions that can safely wait\"\n",
        "}\n",
        "\n",
        "def generate_patient(patient_id=None):\n",
        "    if not patient_id:\n",
        "        patient_id = f\"PT-{datetime.now().strftime('%Y%m%d-%H%M')}-{random.randint(1000, 9999)}\"\n",
        "\n",
        "    prompt = f\"\"\"\n",
        "    You are generating synthetic emergency room patients for a simulation.\n",
        "    To maximize educational value, you must use a chain-of-thought reasoning strategy (internally, not in output) to ensure variety.\n",
        "\n",
        "    **Chain-of-Thought Planning (do not include in output):**\n",
        "    1. Randomly select an age group: infant/toddler (0–3), child (4–12), adolescent (13–18), young adult (19–39), adult (40–64), or elderly (65+). Avoid repeating the same age group in consecutive cases.\n",
        "    2. Randomly select gender.\n",
        "    3. Randomly select a chief complaint from a broad range: trauma, infection, psychiatric, allergy, pain, minor injury, medication issue, fever, seizure, behavioral, etc. Do not always choose chest pain or shortness of breath, and avoid repeating the same complaint in back-to-back cases. Make sure to include some mild cases as well.\n",
        "    4. Out of every 5 cases: 1 should be pediatric, 2 should be under 40, 1 should be over 65, and 1 can be any age.\n",
        "    5. Out of every 5 cases: only 1 should have a cardiac chief complaint (such as chest pain, myocardial infarction, or shortness of breath).\n",
        "    6. Match medical history, medications, and allergies to the selected age, gender, and chief complaint. Vary these details between cases.\n",
        "    7. Ensure the pain score and vital signs are consistent with the scenario, and allow for a wide range of values to show diversity.\n",
        "    8. Occasionally include ambulance arrivals or accident/trauma cases among the generated patients.\n",
        "\n",
        "\n",
        "    **OUTPUT REQUIREMENT:**\n",
        "    ONLY return the JSON object below, nothing else.\n",
        "    Populate all fields with realistic, non-repetitive, internally-consistent values, matching your planning above.\n",
        "\n",
        "    {{\n",
        "      \"patient_id\": \"{patient_id}\",\n",
        "      \"age\": AGE,\n",
        "      \"sex\": \"GENDER\",\n",
        "      \"chief_complaint\": \"PRIMARY_COMPLAINT\",\n",
        "      \"symptoms\": [\"SYMPTOM1\", \"SYMPTOM2\", ...],\n",
        "      \"medical_history\": [\"CONDITION1\", \"CONDITION2\", ...],\n",
        "      \"medications\": [\"MEDICATION1\", \"MEDICATION2\", ...],\n",
        "      \"allergies\": [\"ALLERGY1\", \"ALLERGY2\", ...],\n",
        "      \"vitals\": {{\n",
        "        \"temperature\": TEMP_VALUE,\n",
        "        \"heart_rate\": HR_VALUE,\n",
        "        \"blood_pressure\": \"BP_VALUE\",\n",
        "        \"respiratory_rate\": RR_VALUE,\n",
        "        \"oxygen_saturation\": O2_VALUE\n",
        "      }},\n",
        "      \"pain_score\": PAIN_LEVEL\n",
        "    }}\n",
        "    \"\"\"\n",
        "\n",
        "    try:\n",
        "        gemini_model = genai.GenerativeModel('models/gemini-2.0-flash')\n",
        "        response = gemini_model.generate_content(prompt)\n",
        "        response_text = response.text.strip()\n",
        "\n",
        "        # Remove code block markers if present\n",
        "        if response_text.startswith(\"```json\"):\n",
        "            response_text = response_text[7:]\n",
        "        if response_text.startswith(\"```\"):\n",
        "            response_text = response_text[3:]\n",
        "        if \"```\" in response_text:\n",
        "            response_text = response_text.split(\"```\")[0]\n",
        "\n",
        "        # Find the first JSON object in the response\n",
        "        json_start = response_text.find('{')\n",
        "        json_end = response_text.find('}', json_start)  # Find the first closing }\n",
        "        bracket_count = 0\n",
        "        for i, c in enumerate(response_text[json_start:], start=json_start):\n",
        "            if c == '{':\n",
        "                bracket_count += 1\n",
        "            elif c == '}':\n",
        "                bracket_count -= 1\n",
        "                if bracket_count == 0:\n",
        "                    json_end = i + 1\n",
        "                    break\n",
        "\n",
        "        if json_start >= 0 and json_end > json_start:\n",
        "            json_content = response_text[json_start:json_end]\n",
        "            patient_data = json.loads(json_content)\n",
        "            return patient_data\n",
        "        else:\n",
        "            raise ValueError(\"Could not extract valid JSON from Gemini response\")\n",
        "\n",
        "    except Exception as e:\n",
        "        return f\"❌ LLM did not respond properly: {e}\"\n",
        "\n",
        "\n",
        "\n",
        "# Function to convert patient data to a readable format\n",
        "def format_patient_data(patient):\n",
        "    \"\"\"\n",
        "    Formats patient data for display\n",
        "\n",
        "    Args:\n",
        "        patient: Dictionary containing patient information\n",
        "\n",
        "    Returns:\n",
        "        str: Formatted patient information\n",
        "    \"\"\"\n",
        "    formatted = f\"\"\"\n",
        "    ## Patient ID: {patient['patient_id']}\n",
        "\n",
        "    **Demographics:** {patient['age']}-year-old {patient['sex']}\n",
        "    **Chief Complaint:** {patient['chief_complaint']}\n",
        "\n",
        "    **Symptoms:**\n",
        "    - {', '.join(patient['symptoms'])}\n",
        "\n",
        "    **Medical History:**\n",
        "    - {', '.join(patient['medical_history'])}\n",
        "\n",
        "    **Medications:**\n",
        "    - {', '.join(patient['medications'])}\n",
        "\n",
        "    **Allergies:**\n",
        "    - {', '.join(patient['allergies'])}\n",
        "\n",
        "    **Vitals:**\n",
        "    - Temperature: {patient['vitals']['temperature']}°F\n",
        "    - Heart Rate: {patient['vitals']['heart_rate']} bpm\n",
        "    - Blood Pressure: {patient['vitals']['blood_pressure']}\n",
        "    - Respiratory Rate: {patient['vitals']['respiratory_rate']} breaths/min\n",
        "    - Oxygen Saturation: {patient['vitals']['oxygen_saturation']}%\n",
        "\n",
        "    **Pain Score:** {patient['pain_score']}/10\n",
        "    \"\"\"\n",
        "    return formatted"
      ],
      "outputs": []
    },
    {
      "cell_type": "code",
      "source": [
        "# Generate 2 patients and display them\n",
        "for i in range(1):\n",
        "    print(f\"\\n{'='*50}\\nGENERATING PATIENT #{i+1}\\n{'='*50}\")\n",
        "    patient = generate_patient()\n",
        "\n",
        "    # Check if we received an error message\n",
        "    if isinstance(patient, str):\n",
        "        print(patient)\n",
        "    else:\n",
        "        print(format_patient_data(patient))"
      ],
      "metadata": {
        "id": "r9FOhBCugQNJ",
        "outputId": "86c020f0-9774-45c5-d590-53883be8b7f9",
        "colab": {
          "base_uri": "https://localhost:8080/",
          "height": 555
        }
      },
      "execution_count": 5,
      "outputs": [
        {
          "output_type": "stream",
          "name": "stdout",
          "text": [
            "\n",
            "==================================================\n",
            "GENERATING PATIENT #1\n",
            "==================================================\n",
            "\n",
            "    ## Patient ID: PT-20250922-1751-3445\n",
            "\n",
            "    **Demographics:** 52-year-old Male\n",
            "    **Chief Complaint:** Right ankle pain\n",
            "\n",
            "    **Symptoms:**\n",
            "    - Swelling of right ankle, Difficulty bearing weight, Bruising around ankle, Pain with movement\n",
            "\n",
            "    **Medical History:**\n",
            "    - Hypertension, Hyperlipidemia\n",
            "\n",
            "    **Medications:**\n",
            "    - Lisinopril 20mg daily, Atorvastatin 40mg daily, Ibuprofen 200mg PRN\n",
            "\n",
            "    **Allergies:**\n",
            "    - Penicillin\n",
            "\n",
            "    **Vitals:**\n",
            "    - Temperature: 98.9°F\n",
            "    - Heart Rate: 88 bpm\n",
            "    - Blood Pressure: 142/88\n",
            "    - Respiratory Rate: 18 breaths/min\n",
            "    - Oxygen Saturation: 97%\n",
            "\n",
            "    **Pain Score:** 7/10\n",
            "    \n"
          ]
        }
      ]
    },
    {
      "cell_type": "markdown",
      "metadata": {
        "id": "DEKehwRrbxqq"
      },
      "source": [
        "<div style=\"background: linear-gradient(135deg, #f0f5ff 0%, #e6f0ff 100%); border-radius: 12px; padding: 25px; margin-bottom: 25px; border: 1px solid #0055d4;\">\n",
        "<h2 style=\"color: #0055d4; margin-top: 0; font-size: 24px; padding-bottom: 10px; border-bottom: 2px solid #0055d4;\">🚑 AI-Powered Triage Decision System</h2>\n",
        "<p style=\"line-height: 1.6;\">This system uses OpenAI's GPT-4o model to evaluate patient information and recommend appropriate triage levels based on the Emergency Severity Index (ESI).</p>\n",
        "<div style=\"background-color: white; padding: 15px; border-radius: 8px; margin-top: 15px;\">\n",
        "    <h3 style=\"color: #0055d4; margin-top: 0;\">Key Functions:</h3>\n",
        "    <ul style=\"padding-left: 20px;\">\n",
        "        <li><strong>triage_patient()</strong>: Analyzes patient data using GPT-4o to determine appropriate triage level, confidence score, rationale, and recommended actions</li>\n",
        "        <li><strong>format_triage_results()</strong>: Creates a color-coded visual representation of the triage decision with clinical rationale</li>\n",
        "    </ul>\n",
        "</div>\n",
        "<div style=\"background-color: white; padding: 15px; border-radius: 8px; margin-top: 15px;\">\n",
        "    <h3 style=\"color: #0055d4; margin-top: 0;\">How It Works:</h3>\n",
        "    <ol style=\"padding-left: 20px;\">\n",
        "        <li>Patient data is converted to a structured text format</li>\n",
        "        <li>A specialized prompt instructs the LLM to act as an experienced emergency triage nurse</li>\n",
        "        <li>The system provides the ESI triage scale definitions (Levels 1-5)</li>\n",
        "        <li>GPT-4o analyzes the patient information and returns a structured JSON response</li>\n",
        "        <li>Response includes triage level, confidence score, clinical rationale, and recommended actions</li>\n",
        "        <li>Error handling ensures a fallback triage decision (Level 3) if the API fails</li>\n",
        "        <li>Results are formatted with color-coding based on severity level</li>\n",
        "    </ol>\n",
        "</div>\n",
        "<div style=\"background-color: white; padding: 15px; border-radius: 8px; margin-top: 15px;\">\n",
        "    <h3 style=\"color: #0055d4; margin-top: 0;\">Prompt Design:</h3>\n",
        "    <p>The prompt is carefully engineered to:</p>\n",
        "    <ul style=\"padding-left: 20px;\">\n",
        "        <li>Establish the context (emergency triage nurse role)</li>\n",
        "        <li>Provide clear definitions of each triage level</li>\n",
        "        <li>Present structured patient information</li>\n",
        "        <li>Request specific output format with triage level, confidence, rationale, and recommendations</li>\n",
        "        <li>Emphasize evidence-based decision making considering vitals, symptoms, and medical history</li>\n",
        "    </ul>\n",
        "</div>\n",
        "<div style=\"background-color: #fff0f0; padding: 15px; border-radius: 8px; margin-top: 15px; border-left: 4px solid #ff6b6b;\">\n",
        "    <h3 style=\"color: #d32f2f; margin-top: 0;\">⚠️ Important Limitations:</h3>\n",
        "    <ul style=\"padding-left: 20px; line-height: 1.7;\">\n",
        "        <li><strong>Confidence Level Accuracy:</strong> The confidence scores provided by the LLM may not accurately reflect actual clinical certainty. These values tend to be arbitrarily high and should not be solely relied upon for determining decision quality.</li>\n",
        "        <li><strong>Clinical Validation Required:</strong> All LLM-based triage decisions must be validated by qualified healthcare professionals before application in any clinical setting. This system is for research and educational purposes only.</li>\n",
        "        <li><strong>Potential Bias:</strong> The LLM may exhibit biases in its decision-making process based on its training data, potentially leading to systematic disparities in triage recommendations for different demographic groups.</li>\n",
        "        <li><strong>Incomplete Information Handling:</strong> The system has limited ability to request additional information that would be standard in real triage scenarios, potentially leading to suboptimal decisions when critical data is missing.</li>\n",
        "    </ul>\n",
        "</div>\n",
        "</div>"
      ]
    },
    {
      "cell_type": "code",
      "execution_count": 6,
      "metadata": {
        "id": "Fwdfkc4Rbxqq"
      },
      "source": [
        "def triage_patient(patient_data):\n",
        "    \"\"\"\n",
        "    Determine triage level using OpenAI's ChatGPT\n",
        "\n",
        "    Args:\n",
        "        patient_data: Dictionary containing patient information\n",
        "\n",
        "    Returns:\n",
        "        dict: Triage decision including level, confidence, and rationale\n",
        "    \"\"\"\n",
        "    # Convert patient data to text format for the prompt\n",
        "    patient_text = json.dumps(patient_data, indent=2)\n",
        "\n",
        "    # Create prompt for OpenAI\n",
        "    prompt = f\"\"\"\n",
        "    You are an experienced emergency department triage nurse.\n",
        "    Based on the following patient information, assign an appropriate triage level using the Emergency Severity Index (ESI) from 1-5:\n",
        "\n",
        "    - Level 1 (Immediate/Red): Life-threatening conditions requiring immediate treatment\n",
        "    - Level 2 (Very Urgent/Orange): High risk, potentially life-threatening, rapid assessment needed\n",
        "    - Level 3 (Urgent/Yellow): Serious but stable condition, requires timely assessment\n",
        "    - Level 4 (Standard/Green): Standard cases, no immediate danger\n",
        "    - Level 5 (Non-Urgent/Blue): Minor conditions that can safely wait\n",
        "\n",
        "    PATIENT INFORMATION:\n",
        "    {patient_text}\n",
        "\n",
        "    Provide your assessment in the following JSON format:\n",
        "    {{\n",
        "      \"triage_level\": LEVEL_NUMBER,\n",
        "      \"triage_category\": \"CATEGORY_NAME\",\n",
        "      \"confidence\": CONFIDENCE_SCORE_0_TO_1,\n",
        "      \"rationale\": \"DETAILED_CLINICAL_RATIONALE\",\n",
        "      \"recommended_actions\": [\"ACTION1\", \"ACTION2\", ...]\n",
        "    }}\n",
        "\n",
        "    Ensure your triage decision is evidence-based and considers the patient's vitals, symptoms, and medical history.\n",
        "    \"\"\"\n",
        "\n",
        "    try:\n",
        "        # Call OpenAI API\n",
        "        response = openai.chat.completions.create(\n",
        "            model=\"gpt-4o\",  # or gpt-3.5-turbo\n",
        "            messages=[\n",
        "                {\"role\": \"system\", \"content\": \"You are an experienced emergency medicine triage nurse. Provide accurate, evidence-based triage decisions.\"},\n",
        "                {\"role\": \"user\", \"content\": prompt}\n",
        "            ],\n",
        "            temperature=0.2,\n",
        "            max_tokens=1000\n",
        "        )\n",
        "\n",
        "        # Extract the response text\n",
        "        response_text = response.choices[0].message.content\n",
        "\n",
        "        # Find JSON content (between curly braces)\n",
        "        json_start = response_text.find('{')\n",
        "        json_end = response_text.rfind('}') + 1\n",
        "\n",
        "        if json_start >= 0 and json_end > 0:\n",
        "            json_content = response_text[json_start:json_end]\n",
        "            triage_decision = json.loads(json_content)\n",
        "            return triage_decision\n",
        "        else:\n",
        "            raise ValueError(\"Could not extract valid JSON from API response\")\n",
        "\n",
        "    except Exception as e:\n",
        "        print(f\"Error in triage decision: {e}\")\n",
        "        # Return fallback triage data\n",
        "        return {\n",
        "            \"triage_level\": 3,\n",
        "            \"triage_category\": \"Urgent (Yellow)\",\n",
        "            \"confidence\": 0.75,\n",
        "            \"rationale\": \"Fallback triage decision due to API error\",\n",
        "            \"recommended_actions\": [\"Assessment by physician\", \"Vital signs monitoring\"]\n",
        "        }\n",
        "\n",
        "# Function to format triage results\n",
        "def format_triage_results(triage_result):\n",
        "    \"\"\"\n",
        "    Formats triage results for display\n",
        "\n",
        "    Args:\n",
        "        triage_result: Dictionary containing triage decision\n",
        "\n",
        "    Returns:\n",
        "        str: Formatted triage decision\n",
        "    \"\"\"\n",
        "    # Define color mapping for triage levels\n",
        "    triage_colors = {\n",
        "        1: \"#ff0000\",  # Red\n",
        "        2: \"#ff9900\",  # Orange\n",
        "        3: \"#ffff00\",  # Yellow\n",
        "        4: \"#00cc00\",  # Green\n",
        "        5: \"#0099ff\"   # Blue\n",
        "    }\n",
        "\n",
        "    level = triage_result['triage_level']\n",
        "    color = triage_colors.get(level, \"#999999\")\n",
        "\n",
        "    formatted = f\"\"\"\n",
        "    ## Triage Decision\n",
        "\n",
        "    <div style=\"background-color: {color}; color: {'white' if level <= 2 else 'black'}; padding: 10px; border-radius: 5px; margin: 10px 0;\">\n",
        "    <h3>Level {level}: {triage_result['triage_category']}</h3>\n",
        "    <p><strong>Confidence:</strong> {triage_result['confidence']*100:.1f}%</p>\n",
        "    </div>\n",
        "\n",
        "    **Clinical Rationale:**\n",
        "    {triage_result['rationale']}\n",
        "\n",
        "    **Recommended Actions:**\n",
        "    - {', '.join(triage_result['recommended_actions'])}\n",
        "    \"\"\"\n",
        "    return formatted"
      ],
      "outputs": []
    },
    {
      "cell_type": "markdown",
      "metadata": {
        "id": "QCOvDHa3bxqr"
      },
      "source": [
        "<div style=\"background: linear-gradient(135deg, #e6f7ff 0%, #d1edff 100%); border-radius: 12px; padding: 20px; margin-bottom: 25px; border: 1px solid #0066cc;\">\n",
        "<h2 style=\"color: #0066cc; margin-top: 0; font-size: 24px; padding-bottom: 10px; border-bottom: 2px solid #0066cc;\">🔬 Triage Experiment Runner</h2>\n",
        "<p style=\"line-height: 1.6;\">The <code>run_triage_experiment()</code> function coordinates the end-to-end triage simulation process, from patient generation to result analysis.</p>\n",
        "<div style=\"background-color: white; padding: 15px; border-radius: 8px; margin-top: 15px;\">\n",
        "    <h3 style=\"color: #0066cc; margin-top: 0;\">Key Features:</h3>\n",
        "    <ul style=\"padding-left: 20px;\">\n",
        "        <li><strong>Batch Processing:</strong> Handles multiple patient cases (default: 10) in sequence</li>\n",
        "        <li><strong>Performance Tracking:</strong> Measures and records time spent on patient generation and triage</li>\n",
        "        <li><strong>Visualization:</strong> Displays formatted patient data and color-coded triage decisions</li>\n",
        "        <li><strong>Data Collection:</strong> Compiles demographics and triage results into a structured DataFrame</li>\n",
        "    </ul>\n",
        "</div>\n",
        "<div style=\"background-color: #f0f8ff; padding: 15px; border-radius: 8px; margin-top: 15px; border-left: 4px solid #0066cc;\">\n",
        "    <h3 style=\"color: #0055aa; margin-top: 0;\">Usage Notes:</h3>\n",
        "    <p style=\"margin-bottom: 8px;\">Control the experiment with these parameters:</p>\n",
        "    <ul style=\"padding-left: 20px; margin-bottom: 0;\">\n",
        "        <li><code>num_patients</code>: Set the sample size (higher values provide better distribution analysis)</li>\n",
        "        <li><code>verbose</code>: Enable/disable detailed output for each patient case</li>\n",
        "    </ul>\n",
        "</div>\n",
        "</div>"
      ]
    },
    {
      "cell_type": "code",
      "execution_count": 7,
      "metadata": {
        "id": "2ng5FGV8bxqs"
      },
      "source": [
        "def run_triage_experiment(num_patients=10, verbose=True):\n",
        "    \"\"\"\n",
        "    Run the triage experiment for a specified number of patients\n",
        "\n",
        "    Args:\n",
        "        num_patients: Number of synthetic patients to generate and triage\n",
        "        verbose: Whether to display detailed information for each patient\n",
        "\n",
        "    Returns:\n",
        "        DataFrame: Results of all triage decisions\n",
        "    \"\"\"\n",
        "    results = []\n",
        "\n",
        "    print(f\"Starting GenAI-Assisted Medical Triage Experiment with {num_patients} patients\")\n",
        "    print(\"=\" * 80)\n",
        "\n",
        "    for i in range(num_patients):\n",
        "        print(f\"\\nProcessing Patient {i+1}/{num_patients}...\")\n",
        "\n",
        "        # Generate patient data\n",
        "        start_time = time.time()\n",
        "        patient = generate_patient()\n",
        "        patient_gen_time = time.time() - start_time\n",
        "\n",
        "        # Perform triage decision\n",
        "        start_time = time.time()\n",
        "        triage_decision = triage_patient(patient)\n",
        "        triage_time = time.time() - start_time\n",
        "\n",
        "        # Store results\n",
        "        results.append({\n",
        "            \"patient_id\": patient[\"patient_id\"],\n",
        "            \"age\": patient[\"age\"],\n",
        "            \"sex\": patient[\"sex\"],\n",
        "            \"chief_complaint\": patient[\"chief_complaint\"],\n",
        "            \"triage_level\": triage_decision[\"triage_level\"],\n",
        "            \"triage_category\": triage_decision[\"triage_category\"],\n",
        "            \"confidence\": triage_decision[\"confidence\"],\n",
        "            \"patient_gen_time\": patient_gen_time,\n",
        "            \"triage_time\": triage_time\n",
        "        })\n",
        "\n",
        "        # Display verbose output if requested\n",
        "        if verbose:\n",
        "            display(Markdown(format_patient_data(patient)))\n",
        "            display(HTML(format_triage_results(triage_decision)))\n",
        "            print(\"-\" * 80)\n",
        "\n",
        "    # Convert results to DataFrame\n",
        "    results_df = pd.DataFrame(results)\n",
        "\n",
        "    print(\"\\nExperiment completed successfully!\")\n",
        "    return results_df"
      ],
      "outputs": []
    },
    {
      "cell_type": "markdown",
      "metadata": {
        "id": "fqMMFuvvbxqs"
      },
      "source": [
        "<div style=\"background: white; border-radius: 12px; padding: 20px; margin-bottom: 25px; border: 1px solid #0055d4;\">\n",
        "<h3 style=\"color: #0055d4; margin-top: 0; font-size: 20px;\">📊 Results Analysis</h3>\n",
        "<p>This function analyzes and visualizes the experiment results with charts and statistics.</p>\n",
        "</div>"
      ]
    },
    {
      "cell_type": "code",
      "execution_count": 8,
      "metadata": {
        "id": "kebrcJUzbxqs"
      },
      "source": [
        "def analyze_results(results_df):\n",
        "    \"\"\"\n",
        "    Analyze and visualize the results of the triage experiment\n",
        "\n",
        "    Args:\n",
        "        results_df: DataFrame containing experiment results\n",
        "\n",
        "    Returns:\n",
        "        None (displays visualizations)\n",
        "    \"\"\"\n",
        "    # Print summary statistics\n",
        "    print(\"\\n=== Triage Experiment Summary ===\\n\")\n",
        "    print(f\"Total patients processed: {len(results_df)}\")\n",
        "\n",
        "    # Distribution of triage levels\n",
        "    level_counts = results_df['triage_level'].value_counts().sort_index()\n",
        "\n",
        "    print(\"\\nTriage Level Distribution:\")\n",
        "    for level, count in level_counts.items():\n",
        "        print(f\"Level {level} ({TRIAGE_LEVELS[level].split(':')[0]}): {count} patients ({count/len(results_df)*100:.1f}%)\")\n",
        "\n",
        "    # Average processing times\n",
        "    print(f\"\\nAverage patient generation time: {results_df['patient_gen_time'].mean():.2f} seconds\")\n",
        "    print(f\"Average triage decision time: {results_df['triage_time'].mean():.2f} seconds\")\n",
        "    print(f\"Total average processing time per patient: {(results_df['patient_gen_time'] + results_df['triage_time']).mean():.2f} seconds\")\n",
        "\n",
        "    # Create visualizations\n",
        "    plt.figure(figsize=(15, 10))\n",
        "\n",
        "    # Triage level distribution\n",
        "    plt.subplot(2, 2, 1)\n",
        "    colors = ['#ff0000', '#ff9900', '#ffff00', '#00cc00', '#0099ff']\n",
        "    bars = plt.bar(level_counts.index, level_counts.values, color=[colors[i-1] for i in level_counts.index])\n",
        "    plt.title('Distribution of Triage Levels')\n",
        "    plt.xlabel('Triage Level')\n",
        "    plt.ylabel('Number of Patients')\n",
        "    plt.xticks(level_counts.index)\n",
        "\n",
        "    # Add percentage labels to bars\n",
        "    for bar in bars:\n",
        "        height = bar.get_height()\n",
        "        plt.text(bar.get_x() + bar.get_width()/2., height + 0.1,\n",
        "                f'{height/len(results_df)*100:.1f}%', ha='center')\n",
        "\n",
        "    # Age distribution by triage level\n",
        "    plt.subplot(2, 2, 2)\n",
        "    sns.boxplot(x='triage_level', y='age', data=results_df, palette=colors[:len(level_counts)])\n",
        "    plt.title('Age Distribution by Triage Level')\n",
        "    plt.xlabel('Triage Level')\n",
        "    plt.ylabel('Age')\n",
        "\n",
        "    # Confidence scores by triage level\n",
        "    plt.subplot(2, 2, 3)\n",
        "    sns.boxplot(x='triage_level', y='confidence', data=results_df, palette=colors[:len(level_counts)])\n",
        "    plt.title('Confidence Scores by Triage Level')\n",
        "    plt.xlabel('Triage Level')\n",
        "    plt.ylabel('Confidence Score')\n",
        "    plt.ylim(0, 1)\n",
        "\n",
        "    # Processing time\n",
        "    plt.subplot(2, 2, 4)\n",
        "    time_data = pd.DataFrame({\n",
        "        'Patient Generation': results_df['patient_gen_time'],\n",
        "        'Triage Decision': results_df['triage_time']\n",
        "    })\n",
        "    time_data.plot(kind='bar', stacked=True, ax=plt.gca(), figsize=(10, 6))\n",
        "    plt.title('Processing Time by Patient')\n",
        "    plt.xlabel('Patient Index')\n",
        "    plt.ylabel('Time (seconds)')\n",
        "    plt.xticks([])\n",
        "    plt.legend(loc='upper right')\n",
        "\n",
        "    plt.tight_layout()\n",
        "    plt.show()\n",
        "\n",
        "    # Display final conclusions\n",
        "    print(\"\\n=== Key Findings ===\")\n",
        "    most_common_level = level_counts.idxmax()\n",
        "    print(f\"- Most common triage level: Level {most_common_level} ({TRIAGE_LEVELS[most_common_level].split(':')[0]})\")\n",
        "    print(f\"- Average model confidence: {results_df['confidence'].mean()*100:.1f}%\")\n",
        "    print(f\"- Gender distribution: {results_df['sex'].value_counts().to_dict()}\")\n",
        "\n",
        "    # Chief complaints analysis\n",
        "    complaints = results_df['chief_complaint'].value_counts()\n",
        "    print(f\"- Top chief complaints: {', '.join(complaints.index[:3])}\")\n",
        "\n",
        "    # Efficiency assessment\n",
        "    print(f\"- Total processing time for all {len(results_df)} patients: {results_df['patient_gen_time'].sum() + results_df['triage_time'].sum():.2f} seconds\")"
      ],
      "outputs": []
    },
    {
      "cell_type": "markdown",
      "metadata": {
        "id": "O5Dgq-Nnbxqt"
      },
      "source": [
        "<div style=\"background: linear-gradient(135deg, #f0f5ff 0%, #e6f0ff 100%); border-radius: 12px; padding: 25px; margin-bottom: 25px; border: 1px solid #0055d4;\">\n",
        "<h2 style=\"color: #0055d4; margin-top: 0; font-size: 24px; padding-bottom: 10px; border-bottom: 2px solid #0055d4;\">▶️ Execute the Experiment</h2>\n",
        "\n",
        "<p style=\"line-height: 1.6;\">Run this cell to execute the triage experiment with 10 synthetic patients.</p>\n",
        "<p><strong>Note:</strong> This will make API calls to both Gemini and OpenAI which may incur charges based on your usage tiers.</p>\n",
        "\n",
        "<ul style=\"padding-left: 25px; margin-top: 15px; color: #555;\">\n",
        "  <li><strong>Execution time:</strong> The complete experiment typically takes 3-5 minutes to run depending on API response times</li>\n",
        "  <li><strong>Output:</strong> Results will be stored in the <code>experiment_results</code> variable for further analysis</li>\n",
        "</ul>\n",
        "</div>"
      ]
    },
    {
      "cell_type": "code",
      "execution_count": 9,
      "metadata": {
        "id": "qPuiimGbbxqt",
        "outputId": "46f5a54f-53b4-4830-b410-6ec011eace5e",
        "colab": {
          "base_uri": "https://localhost:8080/",
          "height": 1000
        }
      },
      "source": [
        "# Run the experiment with 10 synthetic patients\n",
        "# Uncomment to run the experiment\n",
        "results = run_triage_experiment(num_patients=10, verbose=True)\n",
        "analyze_results(results)\n"
      ],
      "outputs": [
        {
          "output_type": "stream",
          "name": "stdout",
          "text": [
            "Starting GenAI-Assisted Medical Triage Experiment with 10 patients\n",
            "================================================================================\n",
            "\n",
            "Processing Patient 1/10...\n"
          ]
        },
        {
          "output_type": "display_data",
          "data": {
            "text/plain": [
              "<IPython.core.display.Markdown object>"
            ],
            "text/markdown": "\n    ## Patient ID: PT-20250922-1753-8635\n\n    **Demographics:** 5-year-old Male\n    **Chief Complaint:** Ear pain\n\n    **Symptoms:**\n    - Ear pain, right ear, Fever, Irritability, Pulling at ear\n\n    **Medical History:**\n    - Asthma, History of ear infections\n\n    **Medications:**\n    - Albuterol inhaler (as needed)\n\n    **Allergies:**\n    - Penicillin\n\n    **Vitals:**\n    - Temperature: 102.4°F\n    - Heart Rate: 110 bpm\n    - Blood Pressure: 95/60\n    - Respiratory Rate: 24 breaths/min\n    - Oxygen Saturation: 98%\n\n    **Pain Score:** 6/10\n    "
          },
          "metadata": {}
        },
        {
          "output_type": "display_data",
          "data": {
            "text/plain": [
              "<IPython.core.display.HTML object>"
            ],
            "text/html": [
              "\n",
              "    ## Triage Decision\n",
              "\n",
              "    <div style=\"background-color: #ffff00; color: black; padding: 10px; border-radius: 5px; margin: 10px 0;\">\n",
              "    <h3>Level 3: Urgent/Yellow</h3>\n",
              "    <p><strong>Confidence:</strong> 90.0%</p>\n",
              "    </div>\n",
              "\n",
              "    **Clinical Rationale:**\n",
              "    The patient is a 5-year-old male presenting with ear pain, fever, irritability, and pulling at the ear, which are indicative of a possible ear infection. The fever is significant at 102.4°F, and the patient has a history of ear infections, which increases the likelihood of a recurrent infection. The heart rate and respiratory rate are elevated, likely due to fever and discomfort, but the oxygen saturation is normal, and there are no immediate signs of respiratory distress. The patient's asthma history is noted, but there are no current respiratory symptoms reported. The pain score is moderate at 6. Given these factors, the condition is serious but stable, requiring timely assessment and treatment to prevent complications, such as the spread of infection or worsening symptoms.\n",
              "\n",
              "    **Recommended Actions:**\n",
              "    - Conduct a physical examination focusing on the ear and respiratory system., Administer antipyretics to manage fever., Consider prescribing antibiotics, avoiding penicillin due to allergy., Monitor for any signs of respiratory distress given the history of asthma., Educate caregivers on signs of worsening condition and when to seek further medical attention.\n",
              "    "
            ]
          },
          "metadata": {}
        },
        {
          "output_type": "stream",
          "name": "stdout",
          "text": [
            "--------------------------------------------------------------------------------\n",
            "\n",
            "Processing Patient 2/10...\n"
          ]
        },
        {
          "output_type": "display_data",
          "data": {
            "text/plain": [
              "<IPython.core.display.Markdown object>"
            ],
            "text/markdown": "\n    ## Patient ID: PT-20241027-0822-4578\n\n    **Demographics:** 28-year-old Male\n    **Chief Complaint:** Ankle Injury\n\n    **Symptoms:**\n    - Right ankle pain, Swelling, Difficulty bearing weight\n\n    **Medical History:**\n    - None\n\n    **Medications:**\n    - None\n\n    **Allergies:**\n    - None\n\n    **Vitals:**\n    - Temperature: 98.9°F\n    - Heart Rate: 88 bpm\n    - Blood Pressure: 130/80\n    - Respiratory Rate: 16 breaths/min\n    - Oxygen Saturation: 98%\n\n    **Pain Score:** 7/10\n    "
          },
          "metadata": {}
        },
        {
          "output_type": "display_data",
          "data": {
            "text/plain": [
              "<IPython.core.display.HTML object>"
            ],
            "text/html": [
              "\n",
              "    ## Triage Decision\n",
              "\n",
              "    <div style=\"background-color: #00cc00; color: black; padding: 10px; border-radius: 5px; margin: 10px 0;\">\n",
              "    <h3>Level 4: Standard/Green</h3>\n",
              "    <p><strong>Confidence:</strong> 90.0%</p>\n",
              "    </div>\n",
              "\n",
              "    **Clinical Rationale:**\n",
              "    The patient is a 28-year-old male presenting with a right ankle injury characterized by pain, swelling, and difficulty bearing weight. His vital signs are stable, with no indication of systemic involvement or life-threatening conditions. The pain score is 7, indicating significant discomfort, but there are no signs of neurovascular compromise or open fractures. The absence of medical history, medications, and allergies simplifies the management. Given these factors, the condition is not immediately life-threatening and can be categorized as a standard case requiring evaluation and possible imaging to rule out fractures or significant soft tissue injury.\n",
              "\n",
              "    **Recommended Actions:**\n",
              "    - Conduct a physical examination of the ankle, Order an X-ray to assess for fractures, Provide pain management, Apply RICE (Rest, Ice, Compression, Elevation) therapy, Consider referral to orthopedic specialist if necessary\n",
              "    "
            ]
          },
          "metadata": {}
        },
        {
          "output_type": "stream",
          "name": "stdout",
          "text": [
            "--------------------------------------------------------------------------------\n",
            "\n",
            "Processing Patient 3/10...\n"
          ]
        },
        {
          "output_type": "display_data",
          "data": {
            "text/plain": [
              "<IPython.core.display.Markdown object>"
            ],
            "text/markdown": "\n    ## Patient ID: PT-20241027-0932-2957\n\n    **Demographics:** 52-year-old Male\n    **Chief Complaint:** Abdominal Pain\n\n    **Symptoms:**\n    - Severe abdominal cramping, Nausea, Vomiting, Diarrhea, Loss of appetite\n\n    **Medical History:**\n    - Hypertension, GERD, Hyperlipidemia\n\n    **Medications:**\n    - Lisinopril 20mg daily, Omeprazole 20mg daily, Atorvastatin 40mg daily\n\n    **Allergies:**\n    - Penicillin\n\n    **Vitals:**\n    - Temperature: 100.8°F\n    - Heart Rate: 105 bpm\n    - Blood Pressure: 145/90\n    - Respiratory Rate: 22 breaths/min\n    - Oxygen Saturation: 97%\n\n    **Pain Score:** 8/10\n    "
          },
          "metadata": {}
        },
        {
          "output_type": "display_data",
          "data": {
            "text/plain": [
              "<IPython.core.display.HTML object>"
            ],
            "text/html": [
              "\n",
              "    ## Triage Decision\n",
              "\n",
              "    <div style=\"background-color: #ff9900; color: white; padding: 10px; border-radius: 5px; margin: 10px 0;\">\n",
              "    <h3>Level 2: Very Urgent/Orange</h3>\n",
              "    <p><strong>Confidence:</strong> 90.0%</p>\n",
              "    </div>\n",
              "\n",
              "    **Clinical Rationale:**\n",
              "    The patient is presenting with severe abdominal pain, a high pain score of 8, and accompanying symptoms such as nausea, vomiting, diarrhea, and fever. The elevated heart rate (105 bpm) and respiratory rate (22 breaths/min) suggest a systemic response, possibly indicating a serious underlying condition such as an acute abdomen or infection. The patient's medical history of hypertension and GERD, along with current medications, adds complexity to the case. The combination of severe symptoms, vital sign abnormalities, and potential for rapid deterioration warrants a high-risk categorization and rapid assessment.\n",
              "\n",
              "    **Recommended Actions:**\n",
              "    - Initiate IV access for potential fluid resuscitation and medication administration., Perform a focused abdominal examination to assess for signs of peritonitis or other acute abdominal conditions., Order laboratory tests including CBC, electrolytes, liver function tests, and lipase to evaluate for infection, electrolyte imbalances, or pancreatitis., Consider imaging studies such as an abdominal ultrasound or CT scan to identify any acute intra-abdominal pathology., Administer antiemetics and analgesics as needed to manage symptoms while awaiting further evaluation.\n",
              "    "
            ]
          },
          "metadata": {}
        },
        {
          "output_type": "stream",
          "name": "stdout",
          "text": [
            "--------------------------------------------------------------------------------\n",
            "\n",
            "Processing Patient 4/10...\n"
          ]
        },
        {
          "output_type": "display_data",
          "data": {
            "text/plain": [
              "<IPython.core.display.Markdown object>"
            ],
            "text/markdown": "\n    ## Patient ID: PT-20250922-1754-3439\n\n    **Demographics:** 5-year-old Male\n    **Chief Complaint:** Fever and ear pain\n\n    **Symptoms:**\n    - Ear pain (right ear), Fever, Irritability, Decreased appetite, Nasal congestion\n\n    **Medical History:**\n    - No significant medical history, Recurrent ear infections\n\n    **Medications:**\n    - Amoxicillin (started today), Ibuprofen as needed for fever\n\n    **Allergies:**\n    - No known drug allergies\n\n    **Vitals:**\n    - Temperature: 102.5°F\n    - Heart Rate: 110 bpm\n    - Blood Pressure: 90/60\n    - Respiratory Rate: 24 breaths/min\n    - Oxygen Saturation: 98%\n\n    **Pain Score:** 6/10\n    "
          },
          "metadata": {}
        },
        {
          "output_type": "display_data",
          "data": {
            "text/plain": [
              "<IPython.core.display.HTML object>"
            ],
            "text/html": [
              "\n",
              "    ## Triage Decision\n",
              "\n",
              "    <div style=\"background-color: #ffff00; color: black; padding: 10px; border-radius: 5px; margin: 10px 0;\">\n",
              "    <h3>Level 3: Urgent/Yellow</h3>\n",
              "    <p><strong>Confidence:</strong> 90.0%</p>\n",
              "    </div>\n",
              "\n",
              "    **Clinical Rationale:**\n",
              "    The patient is a 5-year-old male presenting with fever, ear pain, irritability, decreased appetite, and nasal congestion. The vital signs show a fever of 102.5°F, a slightly elevated heart rate of 110 bpm, and a respiratory rate of 24 breaths per minute, which are consistent with a febrile illness in a child. The blood pressure is within normal limits for age, and oxygen saturation is 98%, indicating adequate oxygenation. The pain score is 6, suggesting moderate pain. The patient has a history of recurrent ear infections and has started on antibiotics today. While the condition is not immediately life-threatening, it requires timely assessment and management to address the pain and potential complications of an ear infection.\n",
              "\n",
              "    **Recommended Actions:**\n",
              "    - Perform a focused physical examination, particularly of the ears, nose, and throat., Administer analgesics and antipyretics as needed for pain and fever control., Monitor the patient's vital signs and reassess pain levels., Educate the caregiver on signs of worsening condition and when to seek further medical attention., Ensure follow-up with primary care for reassessment of ear infection response to antibiotics.\n",
              "    "
            ]
          },
          "metadata": {}
        },
        {
          "output_type": "stream",
          "name": "stdout",
          "text": [
            "--------------------------------------------------------------------------------\n",
            "\n",
            "Processing Patient 5/10...\n"
          ]
        },
        {
          "output_type": "display_data",
          "data": {
            "text/plain": [
              "<IPython.core.display.Markdown object>"
            ],
            "text/markdown": "\n    ## Patient ID: PT-20250922-1754-2764\n\n    **Demographics:** 52-year-old Male\n    **Chief Complaint:** Severe abdominal pain\n\n    **Symptoms:**\n    - Sudden onset abdominal pain, Nausea, Vomiting, Abdominal distension, Diaphoresis\n\n    **Medical History:**\n    - Hypertension, Type 2 Diabetes, GERD\n\n    **Medications:**\n    - Metformin 500mg BID, Lisinopril 20mg daily, Omeprazole 20mg daily\n\n    **Allergies:**\n    - Penicillin\n\n    **Vitals:**\n    - Temperature: 99.2°F\n    - Heart Rate: 112 bpm\n    - Blood Pressure: 160/95\n    - Respiratory Rate: 24 breaths/min\n    - Oxygen Saturation: 96%\n\n    **Pain Score:** 8/10\n    "
          },
          "metadata": {}
        },
        {
          "output_type": "display_data",
          "data": {
            "text/plain": [
              "<IPython.core.display.HTML object>"
            ],
            "text/html": [
              "\n",
              "    ## Triage Decision\n",
              "\n",
              "    <div style=\"background-color: #ff9900; color: white; padding: 10px; border-radius: 5px; margin: 10px 0;\">\n",
              "    <h3>Level 2: Very Urgent/Orange</h3>\n",
              "    <p><strong>Confidence:</strong> 90.0%</p>\n",
              "    </div>\n",
              "\n",
              "    **Clinical Rationale:**\n",
              "    The patient presents with severe abdominal pain, sudden onset, accompanied by nausea, vomiting, abdominal distension, and diaphoresis. These symptoms, combined with the patient's elevated heart rate (112 bpm), elevated blood pressure (160/95 mmHg), and increased respiratory rate (24 breaths per minute), suggest a potentially serious condition such as bowel obstruction, perforation, or acute pancreatitis. The patient's medical history of hypertension and type 2 diabetes increases the risk of complications. The pain score of 8 indicates severe pain, necessitating rapid assessment and intervention to rule out life-threatening conditions.\n",
              "\n",
              "    **Recommended Actions:**\n",
              "    - Initiate IV access and administer fluids as needed, Order urgent abdominal imaging (e.g., CT scan), Monitor vital signs closely, Administer analgesics for pain management, Consult surgical team if indicated\n",
              "    "
            ]
          },
          "metadata": {}
        },
        {
          "output_type": "stream",
          "name": "stdout",
          "text": [
            "--------------------------------------------------------------------------------\n",
            "\n",
            "Processing Patient 6/10...\n"
          ]
        },
        {
          "output_type": "display_data",
          "data": {
            "text/plain": [
              "<IPython.core.display.Markdown object>"
            ],
            "text/markdown": "\n    ## Patient ID: PT-20250922-1755-7004\n\n    **Demographics:** 47-year-old Male\n    **Chief Complaint:** Right ankle pain after fall\n\n    **Symptoms:**\n    - Swelling of right ankle, Inability to bear weight on right leg, Bruising around ankle joint\n\n    **Medical History:**\n    - Hypertension, Hyperlipidemia\n\n    **Medications:**\n    - Lisinopril 20mg daily, Atorvastatin 40mg daily\n\n    **Allergies:**\n    - Penicillin\n\n    **Vitals:**\n    - Temperature: 98.8°F\n    - Heart Rate: 88 bpm\n    - Blood Pressure: 142/88\n    - Respiratory Rate: 18 breaths/min\n    - Oxygen Saturation: 97%\n\n    **Pain Score:** 7/10\n    "
          },
          "metadata": {}
        },
        {
          "output_type": "display_data",
          "data": {
            "text/plain": [
              "<IPython.core.display.HTML object>"
            ],
            "text/html": [
              "\n",
              "    ## Triage Decision\n",
              "\n",
              "    <div style=\"background-color: #ffff00; color: black; padding: 10px; border-radius: 5px; margin: 10px 0;\">\n",
              "    <h3>Level 3: Urgent/Yellow</h3>\n",
              "    <p><strong>Confidence:</strong> 90.0%</p>\n",
              "    </div>\n",
              "\n",
              "    **Clinical Rationale:**\n",
              "    The patient presents with right ankle pain, swelling, inability to bear weight, and bruising after a fall, which are indicative of a possible fracture or severe sprain. The patient's vital signs are stable, and there are no immediate life-threatening conditions. However, the inability to bear weight and high pain score of 7 necessitate timely assessment and intervention to manage pain and prevent further injury. The patient's medical history of hypertension and hyperlipidemia does not directly impact the urgency of the current condition but should be considered in overall management.\n",
              "\n",
              "    **Recommended Actions:**\n",
              "    - Perform a physical examination of the right ankle, Order an X-ray of the right ankle to assess for fracture, Administer pain relief medication as appropriate, Provide crutches or a splint to prevent weight-bearing on the affected leg, Consult with orthopedic services if a fracture is confirmed\n",
              "    "
            ]
          },
          "metadata": {}
        },
        {
          "output_type": "stream",
          "name": "stdout",
          "text": [
            "--------------------------------------------------------------------------------\n",
            "\n",
            "Processing Patient 7/10...\n"
          ]
        },
        {
          "output_type": "display_data",
          "data": {
            "text/plain": [
              "<IPython.core.display.Markdown object>"
            ],
            "text/markdown": "\n    ## Patient ID: PT-20250922-1754-8984\n\n    **Demographics:** 52-year-old Female\n    **Chief Complaint:** Right ankle pain\n\n    **Symptoms:**\n    - Right ankle swelling, Difficulty bearing weight on right ankle, Bruising around ankle\n\n    **Medical History:**\n    - Hypertension, Osteoarthritis (right knee)\n\n    **Medications:**\n    - Lisinopril 20mg daily, Ibuprofen 200mg PRN for pain\n\n    **Allergies:**\n    - Penicillin\n\n    **Vitals:**\n    - Temperature: 98.8°F\n    - Heart Rate: 88 bpm\n    - Blood Pressure: 142/88\n    - Respiratory Rate: 16 breaths/min\n    - Oxygen Saturation: 98%\n\n    **Pain Score:** 7/10\n    "
          },
          "metadata": {}
        },
        {
          "output_type": "display_data",
          "data": {
            "text/plain": [
              "<IPython.core.display.HTML object>"
            ],
            "text/html": [
              "\n",
              "    ## Triage Decision\n",
              "\n",
              "    <div style=\"background-color: #00cc00; color: black; padding: 10px; border-radius: 5px; margin: 10px 0;\">\n",
              "    <h3>Level 4: Standard/Green</h3>\n",
              "    <p><strong>Confidence:</strong> 90.0%</p>\n",
              "    </div>\n",
              "\n",
              "    **Clinical Rationale:**\n",
              "    The patient presents with right ankle pain, swelling, difficulty bearing weight, and bruising, which are indicative of a possible sprain or fracture. However, the patient's vital signs are stable, and there are no signs of systemic involvement or life-threatening conditions. The pain score is 7, which indicates significant discomfort but not an immediate threat to life or limb. The patient's medical history of hypertension and osteoarthritis does not complicate the current presentation significantly. Given these factors, the condition is standard and requires evaluation but is not immediately dangerous.\n",
              "\n",
              "    **Recommended Actions:**\n",
              "    - Conduct a physical examination of the right ankle., Order an X-ray to rule out fracture., Provide pain management as needed., Advise rest, ice, compression, and elevation (RICE) for the ankle.\n",
              "    "
            ]
          },
          "metadata": {}
        },
        {
          "output_type": "stream",
          "name": "stdout",
          "text": [
            "--------------------------------------------------------------------------------\n",
            "\n",
            "Processing Patient 8/10...\n"
          ]
        },
        {
          "output_type": "display_data",
          "data": {
            "text/plain": [
              "<IPython.core.display.Markdown object>"
            ],
            "text/markdown": "\n    ## Patient ID: PT-20241027-0832-4287\n\n    **Demographics:** 5-year-old Male\n    **Chief Complaint:** Fever and ear pain\n\n    **Symptoms:**\n    - Ear pain (right ear), Fever, Irritability, Decreased appetite, Pulling at ear\n\n    **Medical History:**\n    - None\n\n    **Medications:**\n    - Amoxicillin (parent reported, just started today)\n\n    **Allergies:**\n    - None Known\n\n    **Vitals:**\n    - Temperature: 102.8°F\n    - Heart Rate: 110 bpm\n    - Blood Pressure: 95/60\n    - Respiratory Rate: 24 breaths/min\n    - Oxygen Saturation: 98%\n\n    **Pain Score:** 6/10\n    "
          },
          "metadata": {}
        },
        {
          "output_type": "display_data",
          "data": {
            "text/plain": [
              "<IPython.core.display.HTML object>"
            ],
            "text/html": [
              "\n",
              "    ## Triage Decision\n",
              "\n",
              "    <div style=\"background-color: #ffff00; color: black; padding: 10px; border-radius: 5px; margin: 10px 0;\">\n",
              "    <h3>Level 3: Urgent/Yellow</h3>\n",
              "    <p><strong>Confidence:</strong> 90.0%</p>\n",
              "    </div>\n",
              "\n",
              "    **Clinical Rationale:**\n",
              "    The patient is a 5-year-old male presenting with fever and ear pain, symptoms consistent with acute otitis media. The fever is significant at 102.8°F, and the child is experiencing moderate pain with a pain score of 6. The heart rate and respiratory rate are slightly elevated, which can be attributed to the fever and discomfort. Oxygen saturation is normal, and there are no signs of respiratory distress or hemodynamic instability. The child has started on amoxicillin, indicating that treatment has been initiated. While the condition is not life-threatening, it requires timely assessment and management to prevent complications and alleviate symptoms.\n",
              "\n",
              "    **Recommended Actions:**\n",
              "    - Perform a focused physical examination, particularly of the ears, throat, and lymph nodes., Administer antipyretics for fever management., Reassess pain and consider analgesics for pain relief., Educate parents about signs of worsening condition and when to seek further medical attention., Schedule follow-up with primary care or pediatrician to ensure resolution of symptoms.\n",
              "    "
            ]
          },
          "metadata": {}
        },
        {
          "output_type": "stream",
          "name": "stdout",
          "text": [
            "--------------------------------------------------------------------------------\n",
            "\n",
            "Processing Patient 9/10...\n"
          ]
        },
        {
          "output_type": "display_data",
          "data": {
            "text/plain": [
              "<IPython.core.display.Markdown object>"
            ],
            "text/markdown": "\n    ## Patient ID: PT-20231027-0932-9876\n\n    **Demographics:** 68-year-old Male\n    **Chief Complaint:** Lower back pain\n\n    **Symptoms:**\n    - Sharp pain in lower back, Pain radiating down left leg, Difficulty walking, Numbness in left foot\n\n    **Medical History:**\n    - Osteoarthritis, Hypertension, Hyperlipidemia, Previous lumbar strain\n\n    **Medications:**\n    - Lisinopril 20mg daily, Atorvastatin 40mg daily, Acetaminophen 500mg PRN\n\n    **Allergies:**\n    - Penicillin\n\n    **Vitals:**\n    - Temperature: 98.2°F\n    - Heart Rate: 82 bpm\n    - Blood Pressure: 148/88\n    - Respiratory Rate: 18 breaths/min\n    - Oxygen Saturation: 97%\n\n    **Pain Score:** 7/10\n    "
          },
          "metadata": {}
        },
        {
          "output_type": "display_data",
          "data": {
            "text/plain": [
              "<IPython.core.display.HTML object>"
            ],
            "text/html": [
              "\n",
              "    ## Triage Decision\n",
              "\n",
              "    <div style=\"background-color: #ff9900; color: white; padding: 10px; border-radius: 5px; margin: 10px 0;\">\n",
              "    <h3>Level 2: Very Urgent/Orange</h3>\n",
              "    <p><strong>Confidence:</strong> 90.0%</p>\n",
              "    </div>\n",
              "\n",
              "    **Clinical Rationale:**\n",
              "    The patient is a 68-year-old male presenting with sharp lower back pain radiating down the left leg, difficulty walking, and numbness in the left foot. These symptoms suggest possible nerve compression or a herniated disc, which could lead to significant neurological deficits if not promptly addressed. While the patient's vital signs are stable, the presence of neurological symptoms (numbness and difficulty walking) elevates the risk level, necessitating rapid assessment and intervention to prevent potential complications.\n",
              "\n",
              "    **Recommended Actions:**\n",
              "    - Perform a focused neurological examination to assess for signs of nerve compression or cauda equina syndrome., Order imaging studies, such as an MRI of the lumbar spine, to evaluate for herniated disc or other structural abnormalities., Administer pain management as appropriate, considering the patient's pain score of 7., Consult with a neurologist or orthopedic specialist if significant neurological deficits are identified., Monitor the patient for any changes in neurological status or worsening of symptoms.\n",
              "    "
            ]
          },
          "metadata": {}
        },
        {
          "output_type": "stream",
          "name": "stdout",
          "text": [
            "--------------------------------------------------------------------------------\n",
            "\n",
            "Processing Patient 10/10...\n"
          ]
        },
        {
          "output_type": "display_data",
          "data": {
            "text/plain": [
              "<IPython.core.display.Markdown object>"
            ],
            "text/markdown": "\n    ## Patient ID: PT-20250922-1754-9260\n\n    **Demographics:** 47-year-old Male\n    **Chief Complaint:** Back pain after lifting heavy object\n\n    **Symptoms:**\n    - Lower back pain, Muscle spasms, Difficulty bending over, Numbness in left leg\n\n    **Medical History:**\n    - Hypertension, Osteoarthritis\n\n    **Medications:**\n    - Lisinopril 20mg daily, Ibuprofen 200mg PRN\n\n    **Allergies:**\n    - Penicillin\n\n    **Vitals:**\n    - Temperature: 98.9°F\n    - Heart Rate: 88 bpm\n    - Blood Pressure: 142/90\n    - Respiratory Rate: 18 breaths/min\n    - Oxygen Saturation: 97%\n\n    **Pain Score:** 7/10\n    "
          },
          "metadata": {}
        },
        {
          "output_type": "display_data",
          "data": {
            "text/plain": [
              "<IPython.core.display.HTML object>"
            ],
            "text/html": [
              "\n",
              "    ## Triage Decision\n",
              "\n",
              "    <div style=\"background-color: #ffff00; color: black; padding: 10px; border-radius: 5px; margin: 10px 0;\">\n",
              "    <h3>Level 3: Urgent/Yellow</h3>\n",
              "    <p><strong>Confidence:</strong> 90.0%</p>\n",
              "    </div>\n",
              "\n",
              "    **Clinical Rationale:**\n",
              "    The patient presents with lower back pain and numbness in the left leg following lifting a heavy object. While the vital signs are stable and do not indicate immediate life-threatening conditions, the presence of numbness suggests possible nerve involvement, which requires timely assessment to rule out serious conditions such as a herniated disc or nerve compression. The pain score of 7 indicates significant discomfort, further supporting the need for urgent evaluation.\n",
              "\n",
              "    **Recommended Actions:**\n",
              "    - Perform a focused physical examination to assess neurological status and identify any signs of nerve compression., Consider imaging studies such as an X-ray or MRI if indicated by the physical exam findings., Administer pain management as appropriate, considering the patient's current medications and allergies., Monitor for any changes in symptoms, particularly worsening numbness or weakness, which may necessitate a higher level of care.\n",
              "    "
            ]
          },
          "metadata": {}
        },
        {
          "output_type": "stream",
          "name": "stdout",
          "text": [
            "--------------------------------------------------------------------------------\n",
            "\n",
            "Experiment completed successfully!\n",
            "\n",
            "=== Triage Experiment Summary ===\n",
            "\n",
            "Total patients processed: 10\n",
            "\n",
            "Triage Level Distribution:\n",
            "Level 2 (Very Urgent (Orange)): 3 patients (30.0%)\n",
            "Level 3 (Urgent (Yellow)): 5 patients (50.0%)\n",
            "Level 4 (Standard (Green)): 2 patients (20.0%)\n",
            "\n",
            "Average patient generation time: 2.10 seconds\n",
            "Average triage decision time: 7.13 seconds\n",
            "Total average processing time per patient: 9.23 seconds\n"
          ]
        },
        {
          "output_type": "stream",
          "name": "stderr",
          "text": [
            "/tmp/ipython-input-2058656404.py:47: FutureWarning: \n",
            "\n",
            "Passing `palette` without assigning `hue` is deprecated and will be removed in v0.14.0. Assign the `x` variable to `hue` and set `legend=False` for the same effect.\n",
            "\n",
            "  sns.boxplot(x='triage_level', y='age', data=results_df, palette=colors[:len(level_counts)])\n",
            "/tmp/ipython-input-2058656404.py:54: FutureWarning: \n",
            "\n",
            "Passing `palette` without assigning `hue` is deprecated and will be removed in v0.14.0. Assign the `x` variable to `hue` and set `legend=False` for the same effect.\n",
            "\n",
            "  sns.boxplot(x='triage_level', y='confidence', data=results_df, palette=colors[:len(level_counts)])\n"
          ]
        },
        {
          "output_type": "display_data",
          "data": {
            "text/plain": [
              "<Figure size 1000x600 with 4 Axes>"
            ],
            "image/png": "[encoded data removed]"
          },
          "metadata": {}
        },
        {
          "output_type": "stream",
          "name": "stdout",
          "text": [
            "\n",
            "=== Key Findings ===\n",
            "- Most common triage level: Level 3 (Urgent (Yellow))\n",
            "- Average model confidence: 90.0%\n",
            "- Gender distribution: {'Male': 9, 'Female': 1}\n",
            "- Top chief complaints: Fever and ear pain, Ear pain, Ankle Injury\n",
            "- Total processing time for all 10 patients: 92.27 seconds\n"
          ]
        }
      ]
    },
    {
      "cell_type": "markdown",
      "metadata": {
        "id": "TljwIKglbxqt"
      },
      "source": [
        "<div style=\"background: linear-gradient(135deg, #001a70 0%, #0055d4 100%); color: white; padding: 25px; margin-top: 30px; text-align: center; border-radius: 10px;\">\n",
        "<h2 style=\"margin-top: 0;\">Conclusion</h2>\n",
        "\n",
        "<div style=\"background: white; border-radius: 12px; padding: 20px; margin-top: 20px; color: #333; text-align: left;\">\n",
        "<p>This notebook demonstrates how generative AI can be applied to healthcare triage systems:</p>\n",
        "\n",
        "<ol>\n",
        "    <li><strong>Patient Generation:</strong> Gemini successfully creates diverse, medically coherent patient profiles.</li>\n",
        "    <li><strong>Triage Decision-Making:</strong> ChatGPT effectively analyzes patient data and assigns appropriate triage levels with clinical rationale.</li>\n",
        "    <li><strong>Analysis:</strong> The system provides insights into triage distribution, processing efficiency, and decision confidence.</li>\n",
        "</ol>\n",
        "\n",
        "<h3 style=\"color: #0055d4;\">Future Enhancements</h3>\n",
        "<ul>\n",
        "    <li>Integrate with electronic health record systems</li>\n",
        "    <li>Add validation against expert clinician decisions</li>\n",
        "    <li>Expand to specialty-specific triage protocols</li>\n",
        "    <li>Implement real-time monitoring dashboard</li>\n",
        "</ul>\n",
        "\n",
        "<h3 style=\"color: #0055d4;\">Limitations</h3>\n",
        "<ul>\n",
        "    <li>Model outputs should always be verified by healthcare professionals</li>\n",
        "    <li>Clinical accuracy depends on prompt design and model capabilities</li>\n",
        "    <li>System requires rigorous testing before clinical implementation</li>\n",
        "</ul>\n",
        "\n",
        "<p style=\"font-style: italic; margin-top: 20px; color: #0055d4;\">This laboratory exercise demonstrates the potential of GenAI to accelerate healthcare innovation while maintaining clinical rigor and patient safety.</p>\n",
        "</div>\n",
        "</div>"
      ]
    },
    {
      "cell_type": "markdown",
      "source": [
        "<div style=\"background: linear-gradient(135deg, #fff0e0 0%, #ffe6cc 100%); border-radius: 12px; padding: 25px; margin-bottom: 25px; border: 1px solid #ff9933;\">\n",
        "<h2 style=\"color: #cc6600; margin-top: 0; font-size: 24px; padding-bottom: 10px; border-bottom: 2px solid #cc6600;\">👥 Human-in-the-Loop Triage Integration</h2>\n",
        "<p style=\"line-height: 1.6;\">The updated triage system now incorporates healthcare provider expertise through a human-in-the-loop approach, ensuring critical oversight of AI decisions.</p>\n",
        "<div style=\"background-color: white; padding: 15px; border-radius: 8px; margin-top: 15px;\">\n",
        "    <h3 style=\"color: #cc6600; margin-top: 0;\">Key Enhancements:</h3>\n",
        "    <ul style=\"padding-left: 20px;\">\n",
        "        <li><strong>Confidence Threshold:</strong> The system now uses a 95% confidence threshold to identify uncertain decisions</li>\n",
        "        <li><strong>Interactive Confirmation:</strong> Healthcare providers review and can override AI suggestions</li>\n",
        "        <li><strong>Decision Documentation:</strong> The system records whether the provider confirmed or modified the AI recommendation</li>\n",
        "        <li><strong>Full Transparency:</strong> Providers see complete patient information and AI reasoning before making decisions</li>\n",
        "    </ul>\n",
        "</div>\n",
        "<div style=\"background-color: white; padding: 15px; border-radius: 8px; margin-top: 15px;\">\n",
        "    <h3 style=\"color: #cc6600; margin-top: 0;\">Workflow Process:</h3>\n",
        "    <ol style=\"padding-left: 20px;\">\n",
        "        <li>AI analyzes patient data and assigns a preliminary triage level</li>\n",
        "        <li>System displays patient information and AI's assessment to the healthcare provider</li>\n",
        "        <li>If AI confidence is below 95%, a warning is prominently displayed</li>\n",
        "        <li>Provider reviews the suggestion and selects the final triage level</li>\n",
        "        <li>The system documents whether the provider confirmed or changed the AI recommendation</li>\n",
        "        <li>Final triage decision receives 100% confidence as it has been validated by a healthcare professional</li>\n",
        "    </ol>\n",
        "</div>\n",
        "<div style=\"background-color: #fff9e6; padding: 15px; border-radius: 8px; margin-top: 15px; border-left: 4px solid #ff9933;\">\n",
        "    <h3 style=\"color: #cc6600; margin-top: 0;\">Clinical Benefits:</h3>\n",
        "    <ul style=\"padding-left: 20px; line-height: 1.7;\">\n",
        "        <li><strong>Safety Enhancement:</strong> Prevents over-reliance on AI by requiring human verification</li>\n",
        "        <li><strong>Knowledge Transfer:</strong> Clinicians can learn from AI suggestions while applying their expertise</li>\n",
        "        <li><strong>Audit Trail:</strong> Creates documentation of decision-making process for quality improvement</li>\n",
        "        <li><strong>Continuous Improvement:</strong> System can track agreement rates between AI and providers to identify patterns</li>\n",
        "    </ul>\n",
        "</div>\n",
        "<div style=\"background-color: white; padding: 15px; border-radius: 8px; margin-top: 15px;\">\n",
        "    <h3 style=\"color: #cc6600; margin-top: 0;\">Implementation Highlights:</h3>\n",
        "    <pre style=\"background-color: #f8f8f8; padding: 10px; border-radius: 4px; font-size: 12px; overflow-x: auto; margin: 0;\">\n",
        "# Key code updates:\n",
        "if triage_decision[\"confidence\"] < confidence_threshold:\n",
        "    print(f\"⚠️ ATTENTION: AI confidence ({triage_decision['confidence']*100:.1f}%) is below threshold\")\n"
      ],
      "metadata": {
        "id": "e7PjSLWv-QEo"
      }
    },
    {
      "cell_type": "code",
      "source": [
        "def triage_patient(patient_data, confidence_threshold=0.95):\n",
        "    \"\"\"\n",
        "    Determine triage level using OpenAI's ChatGPT\n",
        "\n",
        "    Args:\n",
        "        patient_data: Dictionary containing patient information\n",
        "        confidence_threshold: Minimum confidence level required (default: 0.95)\n",
        "\n",
        "    Returns:\n",
        "        dict: Triage decision including level, confidence, and rationale\n",
        "    \"\"\"\n",
        "    # Convert patient data to text format for the prompt\n",
        "    patient_text = json.dumps(patient_data, indent=2)\n",
        "\n",
        "    # Create prompt for OpenAI\n",
        "    prompt = f\"\"\"\n",
        "    You are an experienced emergency department triage nurse.\n",
        "    Based on the following patient information, assign an appropriate triage level using the Emergency Severity Index (ESI) from 1-5:\n",
        "\n",
        "    - Level 1 (Immediate/Red): Life-threatening conditions requiring immediate treatment\n",
        "    - Level 2 (Very Urgent/Orange): High risk, potentially life-threatening, rapid assessment needed\n",
        "    - Level 3 (Urgent/Yellow): Serious but stable condition, requires timely assessment\n",
        "    - Level 4 (Standard/Green): Standard cases, no immediate danger\n",
        "    - Level 5 (Non-Urgent/Blue): Minor conditions that can safely wait\n",
        "\n",
        "    PATIENT INFORMATION:\n",
        "    {patient_text}\n",
        "\n",
        "    Provide your assessment in the following JSON format:\n",
        "    {{\n",
        "      \"triage_level\": LEVEL_NUMBER,\n",
        "      \"triage_category\": \"CATEGORY_NAME\",\n",
        "      \"confidence\": CONFIDENCE_SCORE_0_TO_1,\n",
        "      \"rationale\": \"DETAILED_CLINICAL_RATIONALE\",\n",
        "      \"recommended_actions\": [\"ACTION1\", \"ACTION2\", ...]\n",
        "    }}\n",
        "\n",
        "    Ensure your triage decision is evidence-based and considers the patient's vitals, symptoms, and medical history.\n",
        "    \"\"\"\n",
        "\n",
        "    try:\n",
        "        # Call OpenAI API\n",
        "        response = openai.chat.completions.create(\n",
        "            model=\"gpt-4o\",  # or gpt-3.5-turbo\n",
        "            messages=[\n",
        "                {\"role\": \"system\", \"content\": \"You are an experienced emergency medicine triage nurse. Provide accurate, evidence-based triage decisions.\"},\n",
        "                {\"role\": \"user\", \"content\": prompt}\n",
        "            ],\n",
        "            temperature=0.2,\n",
        "            max_tokens=1000\n",
        "        )\n",
        "\n",
        "        # Extract the response text\n",
        "        response_text = response.choices[0].message.content\n",
        "\n",
        "        # Find JSON content (between curly braces)\n",
        "        json_start = response_text.find('{')\n",
        "        json_end = response_text.rfind('}') + 1\n",
        "\n",
        "        if json_start >= 0 and json_end > 0:\n",
        "            json_content = response_text[json_start:json_end]\n",
        "            triage_decision = json.loads(json_content)\n",
        "\n",
        "            # Always present patient information and request user confirmation\n",
        "            print(\"\\n==== PATIENT INFORMATION ====\")\n",
        "            print(patient_text)\n",
        "            print(\"\\n==== AI TRIAGE SUGGESTION ====\")\n",
        "            print(f\"Level {triage_decision['triage_level']}: {triage_decision['triage_category']}\")\n",
        "            print(f\"Confidence: {triage_decision['confidence']*100:.1f}%\")\n",
        "            print(f\"Rationale: {triage_decision['rationale']}\")\n",
        "\n",
        "            # Highlight if confidence is below threshold\n",
        "            if triage_decision[\"confidence\"] < confidence_threshold:\n",
        "                print(f\"\\n⚠️ ATTENTION: AI confidence ({triage_decision['confidence']*100:.1f}%) is below threshold ({confidence_threshold*100:.0f}%)\")\n",
        "\n",
        "            # Get user input using dropdown-like interface\n",
        "            print(\"\\nPlease confirm or adjust the triage level:\")\n",
        "            print(\"1: Immediate/Red - Life-threatening conditions requiring immediate treatment\")\n",
        "            print(\"2: Very Urgent/Orange - High risk, potentially life-threatening, rapid assessment needed\")\n",
        "            print(\"3: Urgent/Yellow - Serious but stable condition, requires timely assessment\")\n",
        "            print(\"4: Standard/Green - Standard cases, no immediate danger\")\n",
        "            print(\"5: Non-Urgent/Blue - Minor conditions that can safely wait\")\n",
        "\n",
        "            while True:\n",
        "                try:\n",
        "                    user_level = int(input(f\"Enter triage level (1-5) [AI suggested: {triage_decision['triage_level']}]: \"))\n",
        "                    if 1 <= user_level <= 5:\n",
        "                        # Update triage level based on user input\n",
        "                        triage_categories = {\n",
        "                            1: \"Immediate (Red)\",\n",
        "                            2: \"Very Urgent (Orange)\",\n",
        "                            3: \"Urgent (Yellow)\",\n",
        "                            4: \"Standard (Green)\",\n",
        "                            5: \"Non-Urgent (Blue)\"\n",
        "                        }\n",
        "\n",
        "                        # Record if user changed the AI suggestion\n",
        "                        if user_level != triage_decision['triage_level']:\n",
        "                            original_level = triage_decision['triage_level']\n",
        "                            original_category = triage_decision['triage_category']\n",
        "\n",
        "                            triage_decision[\"triage_level\"] = user_level\n",
        "                            triage_decision[\"triage_category\"] = triage_categories[user_level]\n",
        "                            triage_decision[\"confidence\"] = 1.0  # Set confidence to 100% for user decisions\n",
        "                            triage_decision[\"rationale\"] += f\"\\n\\nNote: Healthcare provider changed triage level from AI-suggested Level {original_level} ({original_category}) to Level {user_level} ({triage_categories[user_level]}).\"\n",
        "                        else:\n",
        "                            # User confirmed AI suggestion\n",
        "                            triage_decision[\"confidence\"] = 1.0  # Set confidence to 100% for confirmed decisions\n",
        "                            triage_decision[\"rationale\"] += \"\\n\\nNote: AI-suggested triage level was confirmed by healthcare provider.\"\n",
        "                        break\n",
        "                    else:\n",
        "                        print(\"Invalid input. Please enter a number between 1 and 5.\")\n",
        "                except ValueError:\n",
        "                    print(\"Invalid input. Please enter a number between 1 and 5.\")\n",
        "\n",
        "            return triage_decision\n",
        "        else:\n",
        "            raise ValueError(\"Could not extract valid JSON from API response\")\n",
        "\n",
        "    except Exception as e:\n",
        "        print(f\"Error in triage decision: {e}\")\n",
        "        # Return fallback triage data\n",
        "        return {\n",
        "            \"triage_level\": 3,\n",
        "            \"triage_category\": \"Urgent (Yellow)\",\n",
        "            \"confidence\": 0.75,\n",
        "            \"rationale\": \"Fallback triage decision due to API error\",\n",
        "            \"recommended_actions\": [\"Assessment by physician\", \"Vital signs monitoring\"]\n",
        "        }\n"
      ],
      "metadata": {
        "id": "gTueBv5esvSG"
      },
      "execution_count": 10,
      "outputs": []
    },
    {
      "cell_type": "code",
      "source": [
        "# Run the experiment with 10 synthetic patients\n",
        "# Uncomment to run the experiment\n",
        "results = run_triage_experiment(num_patients=3, verbose=True)\n",
        "analyze_results(results)\n"
      ],
      "metadata": {
        "id": "MTe7pVzDsvlQ",
        "outputId": "c044cff0-4c1f-4057-baa0-9cedaec8e462",
        "colab": {
          "base_uri": "https://localhost:8080/",
          "height": 1000
        }
      },
      "execution_count": 11,
      "outputs": [
        {
          "name": "stdout",
          "output_type": "stream",
          "text": [
            "Starting GenAI-Assisted Medical Triage Experiment with 3 patients\n",
            "================================================================================\n",
            "\n",
            "Processing Patient 1/3...\n",
            "\n",
            "==== PATIENT INFORMATION ====\n",
            "{\n",
            "  \"patient_id\": \"PT-20250922-1757-9876\",\n",
            "  \"age\": 72,\n",
            "  \"sex\": \"Male\",\n",
            "  \"chief_complaint\": \"Right hip pain after a fall\",\n",
            "  \"symptoms\": [\n",
            "    \"Right hip pain, inability to bear weight\",\n",
            "    \"Swelling and bruising around the right hip\",\n",
            "    \"Dizziness\"\n",
            "  ],\n",
            "  \"medical_history\": [\n",
            "    \"Hypertension\",\n",
            "    \"Osteoarthritis\",\n",
            "    \"Previous stroke with residual weakness on the left side\",\n",
            "    \"Hyperlipidemia\"\n",
            "  ],\n",
            "  \"medications\": [\n",
            "    \"Aspirin 81mg daily\",\n",
            "    \"Lisinopril 20mg daily\",\n",
            "    \"Atorvastatin 40mg daily\",\n",
            "    \"Acetaminophen 500mg PRN for pain\"\n",
            "  ],\n",
            "  \"allergies\": [\n",
            "    \"Penicillin\"\n",
            "  ],\n",
            "  \"vitals\": {\n",
            "    \"temperature\": 98.2,\n",
            "    \"heart_rate\": 88,\n",
            "    \"blood_pressure\": \"150/80\",\n",
            "    \"respiratory_rate\": 18,\n",
            "    \"oxygen_saturation\": 95\n",
            "  },\n",
            "  \"pain_score\": 7\n",
            "}\n",
            "\n",
            "==== AI TRIAGE SUGGESTION ====\n",
            "Level 2: Very Urgent/Orange\n",
            "Confidence: 90.0%\n",
            "Rationale: The patient is a 72-year-old male who has experienced a fall resulting in right hip pain, inability to bear weight, and dizziness. Given his age and medical history, including hypertension, osteoarthritis, and a previous stroke with residual weakness, he is at high risk for a hip fracture or other serious injury. The inability to bear weight and dizziness increase the concern for potential complications such as a fracture or head injury. While his vital signs are relatively stable, the combination of symptoms and medical history suggests a potentially serious condition that requires rapid assessment and intervention.\n",
            "\n",
            "⚠️ ATTENTION: AI confidence (90.0%) is below threshold (95%)\n",
            "\n",
            "Please confirm or adjust the triage level:\n",
            "1: Immediate/Red - Life-threatening conditions requiring immediate treatment\n",
            "2: Very Urgent/Orange - High risk, potentially life-threatening, rapid assessment needed\n",
            "3: Urgent/Yellow - Serious but stable condition, requires timely assessment\n",
            "4: Standard/Green - Standard cases, no immediate danger\n",
            "5: Non-Urgent/Blue - Minor conditions that can safely wait\n",
            "Enter triage level (1-5) [AI suggested: 2]: 2\n"
          ]
        },
        {
          "output_type": "display_data",
          "data": {
            "text/plain": [
              "<IPython.core.display.Markdown object>"
            ],
            "text/markdown": "\n    ## Patient ID: PT-20250922-1757-9876\n\n    **Demographics:** 72-year-old Male\n    **Chief Complaint:** Right hip pain after a fall\n\n    **Symptoms:**\n    - Right hip pain, inability to bear weight, Swelling and bruising around the right hip, Dizziness\n\n    **Medical History:**\n    - Hypertension, Osteoarthritis, Previous stroke with residual weakness on the left side, Hyperlipidemia\n\n    **Medications:**\n    - Aspirin 81mg daily, Lisinopril 20mg daily, Atorvastatin 40mg daily, Acetaminophen 500mg PRN for pain\n\n    **Allergies:**\n    - Penicillin\n\n    **Vitals:**\n    - Temperature: 98.2°F\n    - Heart Rate: 88 bpm\n    - Blood Pressure: 150/80\n    - Respiratory Rate: 18 breaths/min\n    - Oxygen Saturation: 95%\n\n    **Pain Score:** 7/10\n    "
          },
          "metadata": {}
        },
        {
          "output_type": "display_data",
          "data": {
            "text/plain": [
              "<IPython.core.display.HTML object>"
            ],
            "text/html": [
              "\n",
              "    ## Triage Decision\n",
              "\n",
              "    <div style=\"background-color: #ff9900; color: white; padding: 10px; border-radius: 5px; margin: 10px 0;\">\n",
              "    <h3>Level 2: Very Urgent/Orange</h3>\n",
              "    <p><strong>Confidence:</strong> 100.0%</p>\n",
              "    </div>\n",
              "\n",
              "    **Clinical Rationale:**\n",
              "    The patient is a 72-year-old male who has experienced a fall resulting in right hip pain, inability to bear weight, and dizziness. Given his age and medical history, including hypertension, osteoarthritis, and a previous stroke with residual weakness, he is at high risk for a hip fracture or other serious injury. The inability to bear weight and dizziness increase the concern for potential complications such as a fracture or head injury. While his vital signs are relatively stable, the combination of symptoms and medical history suggests a potentially serious condition that requires rapid assessment and intervention.\n",
              "\n",
              "Note: AI-suggested triage level was confirmed by healthcare provider.\n",
              "\n",
              "    **Recommended Actions:**\n",
              "    - Perform a physical examination focusing on the hip and neurological status., Obtain imaging studies, such as an X-ray of the hip, to assess for fractures., Monitor vital signs and assess for any changes in neurological status., Provide pain management as appropriate, considering his current medications., Evaluate for potential causes of dizziness, including orthostatic hypotension or head injury.\n",
              "    "
            ]
          },
          "metadata": {}
        },
        {
          "name": "stdout",
          "output_type": "stream",
          "text": [
            "--------------------------------------------------------------------------------\n",
            "\n",
            "Processing Patient 2/3...\n",
            "\n",
            "==== PATIENT INFORMATION ====\n",
            "{\n",
            "  \"patient_id\": \"PT-20231027-0935-2248\",\n",
            "  \"age\": 10,\n",
            "  \"sex\": \"Male\",\n",
            "  \"chief_complaint\": \"Abdominal pain\",\n",
            "  \"symptoms\": [\n",
            "    \"Fever\",\n",
            "    \"Vomiting\",\n",
            "    \"Decreased appetite\",\n",
            "    \"Guarding abdomen\"\n",
            "  ],\n",
            "  \"medical_history\": [\n",
            "    \"Asthma\"\n",
            "  ],\n",
            "  \"medications\": [\n",
            "    \"Albuterol inhaler (as needed)\"\n",
            "  ],\n",
            "  \"allergies\": [\n",
            "    \"Penicillin\"\n",
            "  ],\n",
            "  \"vitals\": {\n",
            "    \"temperature\": 38.9,\n",
            "    \"heart_rate\": 110,\n",
            "    \"blood_pressure\": \"105/65\",\n",
            "    \"respiratory_rate\": 24,\n",
            "    \"oxygen_saturation\": 98\n",
            "  },\n",
            "  \"pain_score\": 6\n",
            "}\n",
            "\n",
            "==== AI TRIAGE SUGGESTION ====\n",
            "Level 2: Very Urgent/Orange\n",
            "Confidence: 90.0%\n",
            "Rationale: The patient is a 10-year-old male presenting with abdominal pain, fever, vomiting, decreased appetite, and guarding of the abdomen. These symptoms, particularly the guarding, suggest a potential surgical abdomen, such as appendicitis, which can be life-threatening if not addressed promptly. The elevated heart rate and fever indicate a possible infection or inflammatory process. The patient's medical history of asthma and current stable respiratory status do not directly impact the urgency of the abdominal complaint but should be monitored. Given the potential for a serious underlying condition, rapid assessment and intervention are necessary.\n",
            "\n",
            "⚠️ ATTENTION: AI confidence (90.0%) is below threshold (95%)\n",
            "\n",
            "Please confirm or adjust the triage level:\n",
            "1: Immediate/Red - Life-threatening conditions requiring immediate treatment\n",
            "2: Very Urgent/Orange - High risk, potentially life-threatening, rapid assessment needed\n",
            "3: Urgent/Yellow - Serious but stable condition, requires timely assessment\n",
            "4: Standard/Green - Standard cases, no immediate danger\n",
            "5: Non-Urgent/Blue - Minor conditions that can safely wait\n",
            "Enter triage level (1-5) [AI suggested: 2]: 2\n"
          ]
        },
        {
          "output_type": "display_data",
          "data": {
            "text/plain": [
              "<IPython.core.display.Markdown object>"
            ],
            "text/markdown": "\n    ## Patient ID: PT-20231027-0935-2248\n\n    **Demographics:** 10-year-old Male\n    **Chief Complaint:** Abdominal pain\n\n    **Symptoms:**\n    - Fever, Vomiting, Decreased appetite, Guarding abdomen\n\n    **Medical History:**\n    - Asthma\n\n    **Medications:**\n    - Albuterol inhaler (as needed)\n\n    **Allergies:**\n    - Penicillin\n\n    **Vitals:**\n    - Temperature: 38.9°F\n    - Heart Rate: 110 bpm\n    - Blood Pressure: 105/65\n    - Respiratory Rate: 24 breaths/min\n    - Oxygen Saturation: 98%\n\n    **Pain Score:** 6/10\n    "
          },
          "metadata": {}
        },
        {
          "output_type": "display_data",
          "data": {
            "text/plain": [
              "<IPython.core.display.HTML object>"
            ],
            "text/html": [
              "\n",
              "    ## Triage Decision\n",
              "\n",
              "    <div style=\"background-color: #ff9900; color: white; padding: 10px; border-radius: 5px; margin: 10px 0;\">\n",
              "    <h3>Level 2: Very Urgent/Orange</h3>\n",
              "    <p><strong>Confidence:</strong> 100.0%</p>\n",
              "    </div>\n",
              "\n",
              "    **Clinical Rationale:**\n",
              "    The patient is a 10-year-old male presenting with abdominal pain, fever, vomiting, decreased appetite, and guarding of the abdomen. These symptoms, particularly the guarding, suggest a potential surgical abdomen, such as appendicitis, which can be life-threatening if not addressed promptly. The elevated heart rate and fever indicate a possible infection or inflammatory process. The patient's medical history of asthma and current stable respiratory status do not directly impact the urgency of the abdominal complaint but should be monitored. Given the potential for a serious underlying condition, rapid assessment and intervention are necessary.\n",
              "\n",
              "Note: AI-suggested triage level was confirmed by healthcare provider.\n",
              "\n",
              "    **Recommended Actions:**\n",
              "    - Perform a focused abdominal examination to assess for signs of peritonitis or appendicitis., Initiate IV access and consider fluid resuscitation if dehydration is suspected due to vomiting., Order laboratory tests, including a complete blood count and electrolytes, to evaluate for infection or dehydration., Consider imaging studies such as an abdominal ultrasound or CT scan to assess for appendicitis or other intra-abdominal pathology., Monitor vital signs closely and reassess pain and abdominal symptoms frequently., Consult pediatric surgery if appendicitis or another surgical condition is suspected.\n",
              "    "
            ]
          },
          "metadata": {}
        },
        {
          "name": "stdout",
          "output_type": "stream",
          "text": [
            "--------------------------------------------------------------------------------\n",
            "\n",
            "Processing Patient 3/3...\n",
            "\n",
            "==== PATIENT INFORMATION ====\n",
            "{\n",
            "  \"patient_id\": \"PT-20250922-1759-6842\",\n",
            "  \"age\": 52,\n",
            "  \"sex\": \"Male\",\n",
            "  \"chief_complaint\": \"Right knee pain and swelling\",\n",
            "  \"symptoms\": [\n",
            "    \"Knee pain, especially with weight-bearing\",\n",
            "    \"Swelling around the knee joint\",\n",
            "    \"Stiffness in the knee\",\n",
            "    \"Clicking sensation in the knee\"\n",
            "  ],\n",
            "  \"medical_history\": [\n",
            "    \"Osteoarthritis\",\n",
            "    \"Hypertension\",\n",
            "    \"Hyperlipidemia\"\n",
            "  ],\n",
            "  \"medications\": [\n",
            "    \"Lisinopril 20mg daily\",\n",
            "    \"Atorvastatin 40mg daily\",\n",
            "    \"Ibuprofen 200mg PRN for pain\"\n",
            "  ],\n",
            "  \"allergies\": [\n",
            "    \"Penicillin\"\n",
            "  ],\n",
            "  \"vitals\": {\n",
            "    \"temperature\": 98.9,\n",
            "    \"heart_rate\": 84,\n",
            "    \"blood_pressure\": \"142/88\",\n",
            "    \"respiratory_rate\": 16,\n",
            "    \"oxygen_saturation\": 97\n",
            "  },\n",
            "  \"pain_score\": 7\n",
            "}\n",
            "\n",
            "==== AI TRIAGE SUGGESTION ====\n",
            "Level 3: Urgent/Yellow\n",
            "Confidence: 90.0%\n",
            "Rationale: The patient is experiencing significant knee pain with a high pain score of 7, swelling, and stiffness, which are consistent with an exacerbation of osteoarthritis. The patient's vital signs are stable, and there are no immediate life-threatening conditions present. However, the pain and functional impairment warrant timely assessment and management to prevent further deterioration and to address the patient's discomfort. The patient's medical history of osteoarthritis supports the need for urgent evaluation to rule out any acute complications such as a joint effusion or ligament injury.\n",
            "\n",
            "⚠️ ATTENTION: AI confidence (90.0%) is below threshold (95%)\n",
            "\n",
            "Please confirm or adjust the triage level:\n",
            "1: Immediate/Red - Life-threatening conditions requiring immediate treatment\n",
            "2: Very Urgent/Orange - High risk, potentially life-threatening, rapid assessment needed\n",
            "3: Urgent/Yellow - Serious but stable condition, requires timely assessment\n",
            "4: Standard/Green - Standard cases, no immediate danger\n",
            "5: Non-Urgent/Blue - Minor conditions that can safely wait\n",
            "Enter triage level (1-5) [AI suggested: 3]: 2\n"
          ]
        },
        {
          "output_type": "display_data",
          "data": {
            "text/plain": [
              "<IPython.core.display.Markdown object>"
            ],
            "text/markdown": "\n    ## Patient ID: PT-20250922-1759-6842\n\n    **Demographics:** 52-year-old Male\n    **Chief Complaint:** Right knee pain and swelling\n\n    **Symptoms:**\n    - Knee pain, especially with weight-bearing, Swelling around the knee joint, Stiffness in the knee, Clicking sensation in the knee\n\n    **Medical History:**\n    - Osteoarthritis, Hypertension, Hyperlipidemia\n\n    **Medications:**\n    - Lisinopril 20mg daily, Atorvastatin 40mg daily, Ibuprofen 200mg PRN for pain\n\n    **Allergies:**\n    - Penicillin\n\n    **Vitals:**\n    - Temperature: 98.9°F\n    - Heart Rate: 84 bpm\n    - Blood Pressure: 142/88\n    - Respiratory Rate: 16 breaths/min\n    - Oxygen Saturation: 97%\n\n    **Pain Score:** 7/10\n    "
          },
          "metadata": {}
        },
        {
          "output_type": "display_data",
          "data": {
            "text/plain": [
              "<IPython.core.display.HTML object>"
            ],
            "text/html": [
              "\n",
              "    ## Triage Decision\n",
              "\n",
              "    <div style=\"background-color: #ff9900; color: white; padding: 10px; border-radius: 5px; margin: 10px 0;\">\n",
              "    <h3>Level 2: Very Urgent (Orange)</h3>\n",
              "    <p><strong>Confidence:</strong> 100.0%</p>\n",
              "    </div>\n",
              "\n",
              "    **Clinical Rationale:**\n",
              "    The patient is experiencing significant knee pain with a high pain score of 7, swelling, and stiffness, which are consistent with an exacerbation of osteoarthritis. The patient's vital signs are stable, and there are no immediate life-threatening conditions present. However, the pain and functional impairment warrant timely assessment and management to prevent further deterioration and to address the patient's discomfort. The patient's medical history of osteoarthritis supports the need for urgent evaluation to rule out any acute complications such as a joint effusion or ligament injury.\n",
              "\n",
              "Note: Healthcare provider changed triage level from AI-suggested Level 3 (Urgent/Yellow) to Level 2 (Very Urgent (Orange)).\n",
              "\n",
              "    **Recommended Actions:**\n",
              "    - Perform a focused physical examination of the knee, Order X-ray of the knee to assess for any acute changes or injuries, Administer pain relief medication as appropriate, Consider referral to orthopedic specialist if necessary, Provide patient education on knee care and follow-up instructions\n",
              "    "
            ]
          },
          "metadata": {}
        },
        {
          "output_type": "stream",
          "name": "stdout",
          "text": [
            "--------------------------------------------------------------------------------\n",
            "\n",
            "Experiment completed successfully!\n",
            "\n",
            "=== Triage Experiment Summary ===\n",
            "\n",
            "Total patients processed: 3\n",
            "\n",
            "Triage Level Distribution:\n",
            "Level 2 (Very Urgent (Orange)): 3 patients (100.0%)\n",
            "\n",
            "Average patient generation time: 2.37 seconds\n",
            "Average triage decision time: 48.04 seconds\n",
            "Total average processing time per patient: 50.41 seconds\n"
          ]
        },
        {
          "output_type": "stream",
          "name": "stderr",
          "text": [
            "/tmp/ipython-input-2058656404.py:47: FutureWarning: \n",
            "\n",
            "Passing `palette` without assigning `hue` is deprecated and will be removed in v0.14.0. Assign the `x` variable to `hue` and set `legend=False` for the same effect.\n",
            "\n",
            "  sns.boxplot(x='triage_level', y='age', data=results_df, palette=colors[:len(level_counts)])\n",
            "/tmp/ipython-input-2058656404.py:54: FutureWarning: \n",
            "\n",
            "Passing `palette` without assigning `hue` is deprecated and will be removed in v0.14.0. Assign the `x` variable to `hue` and set `legend=False` for the same effect.\n",
            "\n",
            "  sns.boxplot(x='triage_level', y='confidence', data=results_df, palette=colors[:len(level_counts)])\n"
          ]
        },
        {
          "output_type": "display_data",
          "data": {
            "text/plain": [
              "<Figure size 1000x600 with 4 Axes>"
            ],
            "image/png": "[encoded data removed]"
          },
          "metadata": {}
        },
        {
          "output_type": "stream",
          "name": "stdout",
          "text": [
            "\n",
            "=== Key Findings ===\n",
            "- Most common triage level: Level 2 (Very Urgent (Orange))\n",
            "- Average model confidence: 100.0%\n",
            "- Gender distribution: {'Male': 3}\n",
            "- Top chief complaints: Right hip pain after a fall, Abdominal pain, Right knee pain and swelling\n",
            "- Total processing time for all 3 patients: 151.23 seconds\n"
          ]
        }
      ]
    },
    {
      "cell_type": "markdown",
      "source": [
        "<div style=\"background-color: #f5f0fa; border-radius: 10px; padding: 20px; margin-bottom: 25px; border: 1px solid #9c27b0;\">\n",
        "<h2 style=\"color: #6a1b9a; margin-top: 0; padding-bottom: 10px; border-bottom: 2px solid #9c27b0;\">✋ Hands-On Assignment</h2>\n",
        "<p>Submit your observations about the benefits and shortcomings of using LLMs for medical triage. Consider what else could be done to improve the system.</p>\n",
        "<h3 style=\"color: #6a1b9a; margin-top: 20px;\">Tasks:</h3>\n",
        "<ol>\n",
        "    <li style=\"margin-bottom: 10px;\"><strong>Prompt Engineering:</strong> Modify prompts for both models and observe impact on results.<br>\n",
        "    <em>Prompt design has a significant effect on output quality and consistency. Try various approaches and document differences.</em></li>\n",
        "<li style=\"margin-bottom: 10px;\"><strong>Model Comparison:</strong> Test different OpenAI and Gemini models.<br>\n",
        "<em>Compare results using <a href=\"https://platform.openai.com/docs/models\" style=\"color: #6a1b9a;\">OpenAI models</a> and <a href=\"https://ai.google.dev/models/gemini\" style=\"color: #6a1b9a;\">Gemini models</a>.</em></li>\n",
        "\n",
        "<li style=\"margin-bottom: 10px;\"><strong>Documentation:</strong> Submit your observations as a discussion post.<br>\n",
        "<em>Include screenshots of chart results to support your findings and recommendations.</em></li>\n",
        "</ol>\n",
        "\n",
        "<h4 style=\"color: #6a1b9a; margin-top: 0;\">Reflection Questions:</h4>\n",
        "<ul>\n",
        "    <li>What are the most promising benefits of AI-assisted triage?</li>\n",
        "    <li>What are the concerning limitations or risks?</li>\n",
        "    <li>How might the human-in-the-loop approach be further optimized?</li>\n",
        "    <li>What additional data or features would improve model performance?</li>\n",
        "</ul>\n",
        "</div>\n",
        "</div>"
      ],
      "metadata": {
        "id": "KYx3h7x4_zv9"
      }
    },
    {
      "cell_type": "code",
      "source": [],
      "metadata": {
        "id": "FFxmyOwdABar"
      },
      "execution_count": null,
      "outputs": []
    }
  ],
  "metadata": {
    "kernelspec": {
      "display_name": "Python 3",
      "language": "python",
      "name": "python3"
    },
    "language_info": {
      "codemirror_mode": {
        "name": "ipython",
        "version": 3
      },
      "file_extension": ".py",
      "mimetype": "text/x-python",
      "name": "python",
      "nbconvert_exporter": "python",
      "pygments_lexer": "ipython3",
      "version": "3.8.8"
    },
    "colab": {
      "provenance": [],
      "include_colab_link": true
    }
  },
  "nbformat": 4,
  "nbformat_minor": 0
}