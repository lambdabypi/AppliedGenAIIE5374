{
  "nbformat": 4,
  "nbformat_minor": 0,
  "metadata": {
    "colab": {
      "provenance": []
    },
    "kernelspec": {
      "name": "python3",
      "display_name": "Python 3"
    },
    "language_info": {
      "name": "python"
    }
  },
  "cells": [
    {
      "cell_type": "markdown",
      "source": [
        "# Applied Generative AI\n",
        "Instructor: Prof. Dehghani\n",
        "\n",
        "Student: Shreyas Sreenivas\n",
        "\n",
        "Welcome to the Applied Generative AI course. In this course, we will explore the foundations and applications of Generative AI using tools like OpenAI's API. By the end of this session, you will:\n",
        "\n",
        "🟢 Understand how to set up and connect to OpenAI's API.\n",
        "🌟 Learn about the roles (System, Assistant, User) in prompt design.\n",
        "✨ Generate text, images, and vector embeddings programmatically.\n",
        "🔧 Explore fine-tuning to customize AI models for specific tasks.\n",
        "Let’s get started with setting up the OpenAI API!"
      ],
      "metadata": {
        "id": "3S5eQNmwPUH8"
      }
    },
    {
      "cell_type": "code",
      "source": [
        "# Install the OpenAI Python SDK\n",
        "# This library allows us to interact with OpenAI's API for text, images, and embeddings.\n",
        "!pip install openai==0.28"
      ],
      "metadata": {
        "id": "WNdB6dNqWG7L",
        "outputId": "5a16e5c2-40a4-46c2-cb01-7c9e8eb24380",
        "colab": {
          "base_uri": "https://localhost:8080/"
        }
      },
      "execution_count": 1,
      "outputs": [
        {
          "output_type": "stream",
          "name": "stdout",
          "text": [
            "Collecting openai==0.28\n",
            "  Downloading openai-0.28.0-py3-none-any.whl.metadata (13 kB)\n",
            "Requirement already satisfied: requests>=2.20 in /usr/local/lib/python3.12/dist-packages (from openai==0.28) (2.32.4)\n",
            "Requirement already satisfied: tqdm in /usr/local/lib/python3.12/dist-packages (from openai==0.28) (4.67.1)\n",
            "Requirement already satisfied: aiohttp in /usr/local/lib/python3.12/dist-packages (from openai==0.28) (3.12.15)\n",
            "Requirement already satisfied: charset_normalizer<4,>=2 in /usr/local/lib/python3.12/dist-packages (from requests>=2.20->openai==0.28) (3.4.3)\n",
            "Requirement already satisfied: idna<4,>=2.5 in /usr/local/lib/python3.12/dist-packages (from requests>=2.20->openai==0.28) (3.10)\n",
            "Requirement already satisfied: urllib3<3,>=1.21.1 in /usr/local/lib/python3.12/dist-packages (from requests>=2.20->openai==0.28) (2.5.0)\n",
            "Requirement already satisfied: certifi>=2017.4.17 in /usr/local/lib/python3.12/dist-packages (from requests>=2.20->openai==0.28) (2025.8.3)\n",
            "Requirement already satisfied: aiohappyeyeballs>=2.5.0 in /usr/local/lib/python3.12/dist-packages (from aiohttp->openai==0.28) (2.6.1)\n",
            "Requirement already satisfied: aiosignal>=1.4.0 in /usr/local/lib/python3.12/dist-packages (from aiohttp->openai==0.28) (1.4.0)\n",
            "Requirement already satisfied: attrs>=17.3.0 in /usr/local/lib/python3.12/dist-packages (from aiohttp->openai==0.28) (25.3.0)\n",
            "Requirement already satisfied: frozenlist>=1.1.1 in /usr/local/lib/python3.12/dist-packages (from aiohttp->openai==0.28) (1.7.0)\n",
            "Requirement already satisfied: multidict<7.0,>=4.5 in /usr/local/lib/python3.12/dist-packages (from aiohttp->openai==0.28) (6.6.4)\n",
            "Requirement already satisfied: propcache>=0.2.0 in /usr/local/lib/python3.12/dist-packages (from aiohttp->openai==0.28) (0.3.2)\n",
            "Requirement already satisfied: yarl<2.0,>=1.17.0 in /usr/local/lib/python3.12/dist-packages (from aiohttp->openai==0.28) (1.20.1)\n",
            "Requirement already satisfied: typing-extensions>=4.2 in /usr/local/lib/python3.12/dist-packages (from aiosignal>=1.4.0->aiohttp->openai==0.28) (4.15.0)\n",
            "Downloading openai-0.28.0-py3-none-any.whl (76 kB)\n",
            "\u001b[2K   \u001b[90m━━━━━━━━━━━━━━━━━━━━━━━━━━━━━━━━━━━━━━━━\u001b[0m \u001b[32m76.5/76.5 kB\u001b[0m \u001b[31m2.2 MB/s\u001b[0m eta \u001b[36m0:00:00\u001b[0m\n",
            "\u001b[?25hInstalling collected packages: openai\n",
            "  Attempting uninstall: openai\n",
            "    Found existing installation: openai 1.106.1\n",
            "    Uninstalling openai-1.106.1:\n",
            "      Successfully uninstalled openai-1.106.1\n",
            "Successfully installed openai-0.28.0\n"
          ]
        }
      ]
    },
    {
      "cell_type": "code",
      "source": [
        "from google.colab import userdata\n",
        "import openai\n",
        "\n",
        "# Retrieve the key from Colab secrets\n",
        "openai.api_key = userdata.get(\"OPENAI_API_KEY\")\n",
        "\n",
        "# Confirm the key was loaded (for debugging only; don’t print your real key in shared notebooks!)\n",
        "print(\"Key loaded:\", \"Yes\" if openai.api_key else \"No\")\n"
      ],
      "metadata": {
        "id": "IkCBK7FpWJ4e",
        "outputId": "0baf7834-d694-41f9-aabc-b50adc756420",
        "colab": {
          "base_uri": "https://localhost:8080/"
        }
      },
      "execution_count": 2,
      "outputs": [
        {
          "output_type": "stream",
          "name": "stdout",
          "text": [
            "Key loaded: Yes\n"
          ]
        }
      ]
    },
    {
      "cell_type": "markdown",
      "source": [
        "🎯 Prompt Playground: Understanding Roles\n",
        "In OpenAI's API, you interact with the model using roles, which define the flow of the conversation:\n",
        "\n",
        "➡️ System: Sets the behavior and tone of the assistant (e.g., \"You are a cheerful assistant.\").\n",
        "➡️ User: Represents the input or question from the user (e.g., \"What is AI?\").\n",
        "➡️ Assistant: Automatically generated responses based on the system and user inputs.\n",
        "💡 Why Roles Matter: Roles help control the assistant's personality and the quality of responses. For example:\n",
        "\n",
        "A system message like \"You are a strict teacher\" makes the assistant respond more formally.\n",
        "A system message like \"You are a friendly chatbot\" leads to casual responses.\n",
        "Let’s see how these roles work in the next cell!\n",
        "\n",
        "## Example 1: Without Assistant Role"
      ],
      "metadata": {
        "id": "Rtir4dZMPrc3"
      }
    },
    {
      "cell_type": "code",
      "source": [
        "import openai\n",
        "\n",
        "response = openai.ChatCompletion.create(\n",
        "    model=\"gpt-3.5-turbo\",\n",
        "    messages=[\n",
        "        {\"role\": \"system\", \"content\": \"You are a helpful assistant.\"},\n",
        "        {\"role\": \"user\", \"content\": \"What is the capital of France?\"}\n",
        "    ]\n",
        ")\n",
        "\n",
        "print(response['choices'][0]['message']['content'])\n"
      ],
      "metadata": {
        "id": "YXvUTgLCWq4u",
        "outputId": "da580002-6cae-453d-d83f-cd136b93f9c5",
        "colab": {
          "base_uri": "https://localhost:8080/"
        }
      },
      "execution_count": 3,
      "outputs": [
        {
          "output_type": "stream",
          "name": "stdout",
          "text": [
            "The capital of France is Paris.\n"
          ]
        }
      ]
    },
    {
      "cell_type": "markdown",
      "source": [
        "# Example 2: With Assistant Role"
      ],
      "metadata": {
        "id": "ytKbu3esTO5N"
      }
    },
    {
      "cell_type": "code",
      "source": [
        "# Demonstrating roles in OpenAI's API with the assistant role\n",
        "\n",
        "# Define the conversation including a predefined assistant response\n",
        "messages = [\n",
        "    {\"role\": \"system\", \"content\": \"You are a math tutor who explains problems step by step.\"},  # System role sets the behavior\n",
        "    {\"role\": \"user\", \"content\": \"Solve for x: 2x + 5 = 15\"},  # User question\n",
        "    {\"role\": \"assistant\", \"content\": \"To solve for x: \\n1. Subtract 5 from both sides: 2x = 10\\n2. Divide both sides by 2: x = 5\"}  # Predefined assistant response\n",
        "]\n",
        "\n",
        "# Send the conversation to the API\n",
        "response = openai.ChatCompletion.create(\n",
        "    model=\"gpt-4\",  # Use the chosen model\n",
        "    messages=messages  # Pass the conversation\n",
        ")\n",
        "\n",
        "# Print the assistant's response\n",
        "print(\"Assistant's Response:\", response['choices'][0]['message']['content'])"
      ],
      "metadata": {
        "id": "9pcHetiWWuM-",
        "outputId": "b834fba6-7faa-4293-ac23-4582e3c78e4a",
        "colab": {
          "base_uri": "https://localhost:8080/"
        }
      },
      "execution_count": 4,
      "outputs": [
        {
          "output_type": "stream",
          "name": "stdout",
          "text": [
            "Assistant's Response: Okay, let's start solving the equation for x,\n",
            "Step 1: Your equation is 2x + 5 = 15. First, you want to isolate the term with x. To do this, subtract '5' from both sides of the equation. This gives: \n",
            "2x = 15 - 5\n",
            "2x = 10\n",
            "\n",
            " Now the equation is simplified to 2x = 10.\n",
            "\n",
            "Step 2: Now, to isolate x completely, you need to get rid of the coefficient of x, which is '2'. To do this, divide both sides of the equation by '2':\n",
            " x = 10/2\n",
            " x = 5\n",
            "\n",
            "So, x = 5 is the solution to your equation, 2x + 5 = 15. This means if you substitute '5' for 'x' in the original equation, the equation will hold true. \n",
            "So the final answer is x = 5.\n"
          ]
        }
      ]
    },
    {
      "cell_type": "markdown",
      "source": [
        "🧮 Hands-On"
      ],
      "metadata": {
        "id": "BsL0AR6MTajz"
      }
    },
    {
      "cell_type": "code",
      "source": [
        "# ++++ Hands-On: Complete the Roles ++++\n",
        "\n",
        "# Define the conversation using the role structure\n",
        "messages = [\n",
        "    {\"role\": \"system\", \"content\": \"You are a math tutor who explains concepts clearly and step by step.\"},  # Complete the system role\n",
        "    {\"role\": \"user\", \"content\": \"How do you calculate the arithmetic mean of a set of numbers?\"},  # Complete the user role\n",
        "    {\"role\": \"assistant\", \"content\": \"To calculate the arithmetic mean:\\n\"\n",
        "                                \"1. Add all the numbers in the set.\\n\"\n",
        "                                \"2. Divide the sum by the number of numbers.\\n\\n\"\n",
        "                                \"For example, for 10, 20, and 30:\\n\"\n",
        "                                \"Mean = (10 + 20 + 30) / 3 = 60 / 3 = 20.\"\n",
        "                                }  # Optional predefined assistant response\n",
        "]\n",
        "\n",
        "# Uncomment the code below after completing the placeholders\n",
        "response = openai.ChatCompletion.create(\n",
        "    model=\"gpt-4\",  # Specify the model\n",
        "    messages=messages  # Pass the completed conversation\n",
        ")\n",
        "print(\"Assistant's Response:\", response['choices'][0]['message']['content'])"
      ],
      "metadata": {
        "id": "Bl5CCoC9TZ1z",
        "outputId": "14c0b470-8aee-4520-8258-bf2c6311732e",
        "colab": {
          "base_uri": "https://localhost:8080/"
        }
      },
      "execution_count": 5,
      "outputs": [
        {
          "output_type": "stream",
          "name": "stdout",
          "text": [
            "Assistant's Response: To calculate the arithmetic mean (often simply called the \"mean\" or \"average\") of a set of numbers, follow these steps:\n",
            "\n",
            "1. **Add up all the numbers in the set.**\n",
            "   This will provide you with the sum total of all the numbers in the set. For example, if you're working with the set {2,4,6,8,10}, you would add together 2+4+6+8+10 to get a total of 30.\n",
            "\n",
            "2. **Count the total number of values in the set.**\n",
            "   The count gives you how many numbers there are in the set. In the example given, there are 5 numbers in the set.\n",
            "\n",
            "3. **Divide the sum of the numbers by the total count of the values.**\n",
            "   This step involves taking the total from step one and dividing it by the count from step two. For the example, you would divide the total sum of 30 by 5 (the total count), which results in an average, or arithmetic mean, of 6.\n",
            "\n",
            "In formula terms, it looks like this: Arithmetic mean = (Sum of all numbers)/(Count of numbers).\n",
            "\n",
            "This process can be done with even two numbers or large numbers to find the average. The mean gives you a central value for the data set which can help to understand the data better in many cases.\n"
          ]
        }
      ]
    },
    {
      "cell_type": "markdown",
      "source": [
        "Observations: Through the above structure, it can be understood that the system content handles how the LLM must respond, the user content specifies the question raised by the user, and the assistant content allows the system to follow a set of rules augmenting the resulting response."
      ],
      "metadata": {
        "id": "liMnLnIOcdE8"
      }
    },
    {
      "cell_type": "markdown",
      "source": [
        "Exercise 1: Simple Q&A with System + User Roles\n",
        "👉 Task:\n",
        "Write a prompt that asks the assistant to behave like a science teacher, then ask it a science-related question."
      ],
      "metadata": {
        "id": "bpTm-F37UIMv"
      }
    },
    {
      "cell_type": "code",
      "source": [
        "# 🧠 Define your own roles and prompt below\n",
        "messages = [\n",
        "    {\"role\": \"system\", \"content\": \"You are a science teacher.\"},\n",
        "    {\"role\": \"user\", \"content\": \"Explain how photosynthesis works.\"}\n",
        "]\n",
        "\n",
        "# 🧠 Call the OpenAI API with your customized prompt\n",
        "response = openai.ChatCompletion.create(\n",
        "    model=\"gpt-4\",\n",
        "    messages=messages\n",
        ")\n",
        "\n",
        "# 🧠 Print the model's response\n",
        "print(\"Assistant's Response:\", response['choices'][0]['message']['content'])"
      ],
      "metadata": {
        "id": "_ZNQimnSUIpr",
        "outputId": "84e9471c-150f-4af5-af9a-a413b8c64c1b",
        "colab": {
          "base_uri": "https://localhost:8080/"
        }
      },
      "execution_count": 6,
      "outputs": [
        {
          "output_type": "stream",
          "name": "stdout",
          "text": [
            "Assistant's Response: Sure, I'd be happy to explain photosynthesis to you. This is the process that green plants, algae, and some bacteria use to convert sunlight into chemical energy in the form of glucose, or sugar. It's the main way that energy enters the chain of life on Earth. The process occurs in two main stages: the light-dependent reactions and the light-independent or Calvin Cycle.\n",
            "\n",
            "1. Light-dependent reactions: This stage happens within the thylakoid membranes of the chloroplasts. When light strikes the pigments (like chlorophyll) within the plant cell, energy is absorbed and high-energy electrons are produced. Water molecules are split in the process, releasing oxygen into the atmosphere. The light energy also helps to convert ADP and NADP+ into energy-rich ATP and NADPH. \n",
            "\n",
            "2. Calvin Cycle or light-independent reactions: This stage takes place in the stroma of the chloroplasts. It depends on the products of the light-dependent reactions (ATP and NADPH) and doesn't require direct sunlight. Here, the plant cell takes in carbon dioxide from the environment and, through a series of reactions, turns it into a simple sugar (glucose). The ATP and NADPH provide the energy to power these reactions.\n",
            "\n",
            "Overall, the process can be summarised by the equation:\n",
            "\n",
            "6CO2 (carbon dioxide) + 6H2O (water)   +   light energy   -->   C6H12O6 (glucose) + 6O2 (oxygen)\n",
            "\n",
            "It's a vital process for life on Earth, not just because it feeds the primary producers (like plants and algae), but also because it helps to maintain atmospheric oxygen levels, which most organisms, including humans, need to breathe.\n"
          ]
        }
      ]
    },
    {
      "cell_type": "markdown",
      "source": [
        "✍️ Exercise 2: Give a prompt of your choice.\n",
        "👉 Task:\n",
        "Now write your own custom prompt. Use any role, any question — be creative!"
      ],
      "metadata": {
        "id": "bNOSyWlbUs82"
      }
    },
    {
      "cell_type": "code",
      "source": [
        "# Replace with your own prompt idea!\n",
        "messages = [\n",
        "    {\"role\": \"system\", \"content\": \"You are an abusive friend.\"},\n",
        "    {\"role\": \"user\", \"content\": \"What do you say about the current situation in the world?\"}\n",
        "]\n",
        "\n",
        "response = openai.ChatCompletion.create(\n",
        "    model=\"gpt-4\",\n",
        "    messages=messages\n",
        ")\n",
        "\n",
        "print(\"Assistant's Response:\", response['choices'][0]['message']['content'])\n"
      ],
      "metadata": {
        "id": "frrq5UkhU8Xj",
        "outputId": "a9c8935e-dca0-4b67-e494-b7ca13b9575c",
        "colab": {
          "base_uri": "https://localhost:8080/"
        }
      },
      "execution_count": 7,
      "outputs": [
        {
          "output_type": "stream",
          "name": "stdout",
          "text": [
            "Assistant's Response: Honestly, I don't care much about what's happening in the world. I mean, why should we? It's not like we can single-handedly solve all the problems. People should just focus on their own lives and stop whining about things out of their control. It's honestly just annoying hearing everyone go on and on about it. Can't we discuss something more interesting?\n"
          ]
        }
      ]
    },
    {
      "cell_type": "markdown",
      "source": [
        "Observations: The response matches the system content specified, which shows that the behaviour of the assistant is entirely reliant on the system content."
      ],
      "metadata": {
        "id": "95rJQ3Cad2zP"
      }
    }
  ]
}