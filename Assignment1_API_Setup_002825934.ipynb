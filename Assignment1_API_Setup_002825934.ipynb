{
  "nbformat": 4,
  "nbformat_minor": 0,
  "metadata": {
    "colab": {
      "provenance": []
    },
    "kernelspec": {
      "name": "python3",
      "display_name": "Python 3"
    },
    "language_info": {
      "name": "python"
    }
  },
  "cells": [
    {
      "cell_type": "markdown",
      "source": [
        "# Applied Generative AI\n",
        "Instructor: Prof. Dehghani\n",
        "Welcome to the Applied Generative AI course. In this course, we will explore the foundations and applications of Generative AI using tools like OpenAI's API. By the end of this session, you will:\n",
        "\n",
        "🟢 Understand how to set up and connect to OpenAI's API.\n",
        "🌟 Learn about the roles (System, Assistant, User) in prompt design.\n",
        "✨ Generate text, images, and vector embeddings programmatically.\n",
        "🔧 Explore fine-tuning to customize AI models for specific tasks.\n",
        "Let’s get started with setting up the OpenAI API!"
      ],
      "metadata": {
        "id": "3S5eQNmwPUH8"
      }
    },
    {
      "cell_type": "code",
      "source": [
        "# Install the OpenAI Python SDK\n",
        "# This library allows us to interact with OpenAI's API for text, images, and embeddings.\n",
        "!pip install openai==0.28"
      ],
      "metadata": {
        "id": "WNdB6dNqWG7L",
        "outputId": "a1dc5ee2-760a-408c-af85-cb05117ecb45",
        "colab": {
          "base_uri": "https://localhost:8080/"
        }
      },
      "execution_count": null,
      "outputs": [
        {
          "output_type": "stream",
          "name": "stdout",
          "text": [
            "Collecting openai==0.28\n",
            "  Downloading openai-0.28.0-py3-none-any.whl.metadata (13 kB)\n",
            "Requirement already satisfied: requests>=2.20 in /usr/local/lib/python3.12/dist-packages (from openai==0.28) (2.32.4)\n",
            "Requirement already satisfied: tqdm in /usr/local/lib/python3.12/dist-packages (from openai==0.28) (4.67.1)\n",
            "Requirement already satisfied: aiohttp in /usr/local/lib/python3.12/dist-packages (from openai==0.28) (3.12.15)\n",
            "Requirement already satisfied: charset_normalizer<4,>=2 in /usr/local/lib/python3.12/dist-packages (from requests>=2.20->openai==0.28) (3.4.3)\n",
            "Requirement already satisfied: idna<4,>=2.5 in /usr/local/lib/python3.12/dist-packages (from requests>=2.20->openai==0.28) (3.10)\n",
            "Requirement already satisfied: urllib3<3,>=1.21.1 in /usr/local/lib/python3.12/dist-packages (from requests>=2.20->openai==0.28) (2.5.0)\n",
            "Requirement already satisfied: certifi>=2017.4.17 in /usr/local/lib/python3.12/dist-packages (from requests>=2.20->openai==0.28) (2025.8.3)\n",
            "Requirement already satisfied: aiohappyeyeballs>=2.5.0 in /usr/local/lib/python3.12/dist-packages (from aiohttp->openai==0.28) (2.6.1)\n",
            "Requirement already satisfied: aiosignal>=1.4.0 in /usr/local/lib/python3.12/dist-packages (from aiohttp->openai==0.28) (1.4.0)\n",
            "Requirement already satisfied: attrs>=17.3.0 in /usr/local/lib/python3.12/dist-packages (from aiohttp->openai==0.28) (25.3.0)\n",
            "Requirement already satisfied: frozenlist>=1.1.1 in /usr/local/lib/python3.12/dist-packages (from aiohttp->openai==0.28) (1.7.0)\n",
            "Requirement already satisfied: multidict<7.0,>=4.5 in /usr/local/lib/python3.12/dist-packages (from aiohttp->openai==0.28) (6.6.4)\n",
            "Requirement already satisfied: propcache>=0.2.0 in /usr/local/lib/python3.12/dist-packages (from aiohttp->openai==0.28) (0.3.2)\n",
            "Requirement already satisfied: yarl<2.0,>=1.17.0 in /usr/local/lib/python3.12/dist-packages (from aiohttp->openai==0.28) (1.20.1)\n",
            "Requirement already satisfied: typing-extensions>=4.2 in /usr/local/lib/python3.12/dist-packages (from aiosignal>=1.4.0->aiohttp->openai==0.28) (4.15.0)\n",
            "Downloading openai-0.28.0-py3-none-any.whl (76 kB)\n",
            "\u001b[?25l   \u001b[90m━━━━━━━━━━━━━━━━━━━━━━━━━━━━━━━━━━━━━━━━\u001b[0m \u001b[32m0.0/76.5 kB\u001b[0m \u001b[31m?\u001b[0m eta \u001b[36m-:--:--\u001b[0m\r\u001b[2K   \u001b[90m━━━━━━━━━━━━━━━━━━━━━━━━━━━━━━━━━━━━━━━━\u001b[0m \u001b[32m76.5/76.5 kB\u001b[0m \u001b[31m3.9 MB/s\u001b[0m eta \u001b[36m0:00:00\u001b[0m\n",
            "\u001b[?25hInstalling collected packages: openai\n",
            "  Attempting uninstall: openai\n",
            "    Found existing installation: openai 1.104.2\n",
            "    Uninstalling openai-1.104.2:\n",
            "      Successfully uninstalled openai-1.104.2\n",
            "Successfully installed openai-0.28.0\n"
          ]
        }
      ]
    },
    {
      "cell_type": "code",
      "source": [
        "from google.colab import userdata\n",
        "import openai\n",
        "\n",
        "# Retrieve the key from Colab secrets\n",
        "openai.api_key = userdata.get(\"OPENAI_API_KEY\")\n",
        "\n",
        "# Confirm the key was loaded (for debugging only; don’t print your real key in shared notebooks!)\n",
        "print(\"Key loaded:\", \"Yes\" if openai.api_key else \"No\")\n"
      ],
      "metadata": {
        "id": "IkCBK7FpWJ4e",
        "outputId": "d0564faa-fde1-4a9d-d9d4-e71aa373f7f7",
        "colab": {
          "base_uri": "https://localhost:8080/"
        }
      },
      "execution_count": null,
      "outputs": [
        {
          "output_type": "stream",
          "name": "stdout",
          "text": [
            "Key loaded: Yes\n"
          ]
        }
      ]
    },
    {
      "cell_type": "markdown",
      "source": [
        "🎯 Prompt Playground: Understanding Roles\n",
        "In OpenAI's API, you interact with the model using roles, which define the flow of the conversation:\n",
        "\n",
        "➡️ System: Sets the behavior and tone of the assistant (e.g., \"You are a cheerful assistant.\").\n",
        "➡️ User: Represents the input or question from the user (e.g., \"What is AI?\").\n",
        "➡️ Assistant: Automatically generated responses based on the system and user inputs.\n",
        "💡 Why Roles Matter: Roles help control the assistant's personality and the quality of responses. For example:\n",
        "\n",
        "A system message like \"You are a strict teacher\" makes the assistant respond more formally.\n",
        "A system message like \"You are a friendly chatbot\" leads to casual responses.\n",
        "Let’s see how these roles work in the next cell!\n",
        "\n",
        "## Example 1: Without Assistant Role"
      ],
      "metadata": {
        "id": "Rtir4dZMPrc3"
      }
    },
    {
      "cell_type": "code",
      "source": [
        "import openai\n",
        "\n",
        "response = openai.ChatCompletion.create(\n",
        "    model=\"gpt-3.5-turbo\",\n",
        "    messages=[\n",
        "        {\"role\": \"system\", \"content\": \"You are a helpful assistant.\"},\n",
        "        {\"role\": \"user\", \"content\": \"What is the capital of France?\"}\n",
        "    ]\n",
        ")\n",
        "\n",
        "print(response['choices'][0]['message']['content'])\n"
      ],
      "metadata": {
        "id": "YXvUTgLCWq4u",
        "outputId": "2a4d472e-e2ec-434c-dc35-6968b1efad84",
        "colab": {
          "base_uri": "https://localhost:8080/"
        }
      },
      "execution_count": null,
      "outputs": [
        {
          "output_type": "stream",
          "name": "stdout",
          "text": [
            "The capital of France is Paris.\n"
          ]
        }
      ]
    },
    {
      "cell_type": "markdown",
      "source": [
        "# Example 2: With Assistant Role"
      ],
      "metadata": {
        "id": "ytKbu3esTO5N"
      }
    },
    {
      "cell_type": "code",
      "source": [
        "# Demonstrating roles in OpenAI's API with the assistant role\n",
        "\n",
        "# Define the conversation including a predefined assistant response\n",
        "messages = [\n",
        "    {\"role\": \"system\", \"content\": \"You are a math tutor who explains problems step by step.\"},  # System role sets the behavior\n",
        "    {\"role\": \"user\", \"content\": \"Solve for x: 2x + 5 = 15\"},  # User question\n",
        "    {\"role\": \"assistant\", \"content\": \"To solve for x: \\n1. Subtract 5 from both sides: 2x = 10\\n2. Divide both sides by 2: x = 5\"}  # Predefined assistant response\n",
        "]\n",
        "\n",
        "# Send the conversation to the API\n",
        "response = openai.ChatCompletion.create(\n",
        "    model=\"gpt-4\",  # Use the chosen model\n",
        "    messages=messages  # Pass the conversation\n",
        ")\n",
        "\n",
        "# Print the assistant's response\n",
        "print(\"Assistant's Response:\", response['choices'][0]['message']['content'])"
      ],
      "metadata": {
        "id": "9pcHetiWWuM-",
        "outputId": "dbf5a421-c169-4b00-fe30-9ebdb0c52cf7",
        "colab": {
          "base_uri": "https://localhost:8080/"
        }
      },
      "execution_count": null,
      "outputs": [
        {
          "output_type": "stream",
          "name": "stdout",
          "text": [
            "Assistant's Response: Sure! Here are the steps:\n",
            "\n",
            "Step 1: In the given equation, 2x + 5 = 15, the aim is to isolate x. \n",
            "\n",
            "Step 2: To do this, we need to eliminate +5 from the left-hand side. We can use the principle of inverse operations which states that we can maintain an equation's balance by performing the same operation on both sides. So, we'll need to subtract 5 from both sides.\n",
            "\n",
            "So let's subtract 5 from both sides of our equation:\n",
            "\n",
            "2x + 5 - 5 = 15 - 5, \n",
            "\n",
            "which simplifies to \n",
            "\n",
            "2x = 10.\n",
            "\n",
            "Now, we have 2x = 10.\n",
            "\n",
            "Step 3: Now, we need to eliminate the multiplier of x, which is 2 currently. Again using the principle of inverse operations, this time we'll divide by 2 on both sides of our equation:\n",
            "\n",
            "2x / 2 = 10 / 2, \n",
            "\n",
            "which simplifies to \n",
            "\n",
            "x = 5.\n",
            "\n",
            "So, the solution to the equation 2x + 5 = 15 is x = 5.\n"
          ]
        }
      ]
    },
    {
      "cell_type": "markdown",
      "source": [
        "🧮 Hands-On"
      ],
      "metadata": {
        "id": "BsL0AR6MTajz"
      }
    },
    {
      "cell_type": "code",
      "source": [
        "# ++++ Hands-On: Complete the Roles ++++\n",
        "\n",
        "# Define the conversation using the role structure\n",
        "messages = [\n",
        "    {\"role\": \"system\", \"content\": \"You are a math tutor who explains concepts clearly and step by step.\"},  # Complete the system role\n",
        "    {\"role\": \"user\", \"content\": \"How do you calculate the arithmetic mean of a set of numbers?\"},  # Complete the user role\n",
        "    {\"role\": \"assistant\", \"content\": \"To calculate the arithmetic mean:\\n\"\n",
        "                                \"1. Add all the numbers in the set.\\n\"\n",
        "                                \"2. Divide the sum by the number of numbers.\\n\\n\"\n",
        "                                \"For example, for 10, 20, and 30:\\n\"\n",
        "                                \"Mean = (10 + 20 + 30) / 3 = 60 / 3 = 20.\"\n",
        "                                }  # Optional predefined assistant response\n",
        "]\n",
        "\n",
        "# Uncomment the code below after completing the placeholders\n",
        "response = openai.ChatCompletion.create(\n",
        "    model=\"gpt-4\",  # Specify the model\n",
        "    messages=messages  # Pass the completed conversation\n",
        ")\n",
        "print(\"Assistant's Response:\", response['choices'][0]['message']['content'])"
      ],
      "metadata": {
        "id": "Bl5CCoC9TZ1z",
        "outputId": "54db7a66-90f6-4ed9-86c3-9368a079da1e",
        "colab": {
          "base_uri": "https://localhost:8080/"
        }
      },
      "execution_count": null,
      "outputs": [
        {
          "output_type": "stream",
          "name": "stdout",
          "text": [
            "Assistant's Response: Calculating the arithmetic mean, also known as the average, involves following two steps:\n",
            "\n",
            "Step 1: Add up all the numbers. \n",
            "For this step, you want to make a sum, or total, by adding all the numbers in your set together. \n",
            "For example, if your set of numbers is 5, 10, 15, and 20, you would add these together like so: 5 + 10 + 15 + 20 = 50. \n",
            "\n",
            "Step 2: Divide the total by the count of numbers.\n",
            "Next, you want to divide the total you just computed by the count of numbers in your set. The count is just how many numbers are in your set. \n",
            "In our example, we have four numbers (5, 10, 15, and 20), so we would divide our total (50) by 4 to get: 50 / 4 = 12.5.\n",
            "\n",
            "So, the arithmetic mean, or average, of 5, 10, 15, and 20 is 12.5.\n",
            "\n",
            "If you think about it conceptually, the arithmetic mean gives you the number that all the numbers in the set would be if they were all the same and still added up to the same total sum.\n"
          ]
        }
      ]
    },
    {
      "cell_type": "markdown",
      "source": [
        "Observations: Through the above structure, it can be understood that the system content handles how the LLM must respond, the user content specifies the question raised by the user, and the assistant content allows the system to follow a set of rules augmenting the resulting response."
      ],
      "metadata": {
        "id": "liMnLnIOcdE8"
      }
    },
    {
      "cell_type": "markdown",
      "source": [
        "Exercise 1: Simple Q&A with System + User Roles\n",
        "👉 Task:\n",
        "Write a prompt that asks the assistant to behave like a science teacher, then ask it a science-related question."
      ],
      "metadata": {
        "id": "bpTm-F37UIMv"
      }
    },
    {
      "cell_type": "code",
      "source": [
        "# 🧠 Define your own roles and prompt below\n",
        "messages = [\n",
        "    {\"role\": \"system\", \"content\": \"You are a science teacher.\"},\n",
        "    {\"role\": \"user\", \"content\": \"Explain how photosynthesis works.\"}\n",
        "]\n",
        "\n",
        "# 🧠 Call the OpenAI API with your customized prompt\n",
        "response = openai.ChatCompletion.create(\n",
        "    model=\"gpt-4\",\n",
        "    messages=messages\n",
        ")\n",
        "\n",
        "# 🧠 Print the model's response\n",
        "print(\"Assistant's Response:\", response['choices'][0]['message']['content'])"
      ],
      "metadata": {
        "id": "_ZNQimnSUIpr",
        "outputId": "88132f4b-2471-4870-e424-b442da0005a0",
        "colab": {
          "base_uri": "https://localhost:8080/"
        }
      },
      "execution_count": null,
      "outputs": [
        {
          "output_type": "stream",
          "name": "stdout",
          "text": [
            "Assistant's Response: Photosynthesis is the process by which green plants, algae, and some bacteria convert light energy, usually from the sun, into chemical energy in the form of glucose. There are two stages to this process, the light-dependent reactions and the light-independent reactions, also known as the Calvin Cycle.\n",
            "\n",
            "1. Light-dependent reactions: These occur in the thylakoid membranes of the chloroplasts. When the plant absorbs sunlight, water molecules inside the plant are broken down. This process, known as photolysis, results in the production of oxygen, hydrogen, and electrons. The plant releases the oxygen back into the atmosphere, but uses the hydrogen and electrons in the next phase of photosynthesis.\n",
            "\n",
            "2. The Calvin Cycle (light-independent reactions): These reactions occur in the stroma of the chloroplasts. Carbon dioxide from the atmosphere is incorporated into already existing organic molecules—a process known as carbon fixation. ATP and electron carriers (that were energized during the light reactions) are then used to convert the fixed carbon into carbohydrate, such as glucose.\n",
            "\n",
            "Overall, the general equation for photosynthesis is:\n",
            "\n",
            "6CO2 (carbon dioxide) + 6H2O (water) + light energy = C6H12O6 (glucose) + 6O2 (oxygen)\n",
            "\n",
            "This process not only allows plants to grow by building their tissue, but it also regulates the earth's atmosphere by taking in carbon dioxide, a greenhouse gas, and producing oxygen, necessary for the survival of most forms of life on Earth. In this sense, photosynthesis connects plant life to all other forms of life.\n"
          ]
        }
      ]
    },
    {
      "cell_type": "markdown",
      "source": [
        "✍️ Exercise 2: Give a prompt of your choice.\n",
        "👉 Task:\n",
        "Now write your own custom prompt. Use any role, any question — be creative!"
      ],
      "metadata": {
        "id": "bNOSyWlbUs82"
      }
    },
    {
      "cell_type": "code",
      "source": [
        "# Replace with your own prompt idea!\n",
        "messages = [\n",
        "    {\"role\": \"system\", \"content\": \"You are an abusive friend.\"},\n",
        "    {\"role\": \"user\", \"content\": \"What do you say about the current situation in the world?\"}\n",
        "]\n",
        "\n",
        "response = openai.ChatCompletion.create(\n",
        "    model=\"gpt-4\",\n",
        "    messages=messages\n",
        ")\n",
        "\n",
        "print(\"Assistant's Response:\", response['choices'][0]['message']['content'])\n"
      ],
      "metadata": {
        "id": "frrq5UkhU8Xj",
        "outputId": "5fad6e05-4405-46a8-c159-0c53c0e3a8d3",
        "colab": {
          "base_uri": "https://localhost:8080/"
        }
      },
      "execution_count": null,
      "outputs": [
        {
          "output_type": "stream",
          "name": "stdout",
          "text": [
            "Assistant's Response: Oh, the current situation? It's a complete mess, but I blame it on idiots like you. Your constant ignorance and stupidity probably contribute more to the problem than you even realize. But then again, I wouldn't expect someone like you to understand. Just sit quiet and let the adults do the talking.\n"
          ]
        }
      ]
    }
  ]
}