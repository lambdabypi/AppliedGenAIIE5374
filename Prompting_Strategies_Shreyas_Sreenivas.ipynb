{
  "nbformat": 4,
  "nbformat_minor": 0,
  "metadata": {
    "colab": {
      "provenance": [],
      "authorship_tag": "ABX9TyMrBeRXxbeP9UZpEYmFvs37",
      "include_colab_link": true
    },
    "kernelspec": {
      "name": "python3",
      "display_name": "Python 3"
    },
    "language_info": {
      "name": "python"
    }
  },
  "cells": [
    {
      "cell_type": "markdown",
      "metadata": {
        "id": "view-in-github",
        "colab_type": "text"
      },
      "source": [
        "<a href=\"https://colab.research.google.com/github/lambdabypi/AppliedGenAIIE5374/blob/main/Prompting_Strategies_Shreyas_Sreenivas.ipynb\" target=\"_parent\"><img src=\"https://colab.research.google.com/assets/colab-badge.svg\" alt=\"Open In Colab\"/></a>"
      ]
    },
    {
      "cell_type": "markdown",
      "source": [
        "# Prompting Strategies\n",
        "### Shreyas Sreenivas\n",
        "\n",
        "## Test Different Temperature Settings\n",
        "\n",
        "Run the same prompt with at least three different temperature values (e.g., 0.1, 0.5, 0.9). For each temperature setting, run the test multiple times to evaluate consistency.\n",
        "\n",
        "```\n",
        "Suggested prompt: \"Write a short motivational quote about learning.\"\n",
        "Note: You'll need your own API key to run the Python script.\n",
        "The script includes examples of using OpenAI, Anthropic, and other LLM providers' APIs.\n",
        "Follow the instructions in the script comments.\n",
        "```\n",
        "\n",
        "\n",
        "\n",
        "#### Analyze Your Results\n",
        "\n",
        "Compare the outputs across different temperature settings, noting differences in:\n",
        "\n",
        "* Creativity and originality of the responses\n",
        "* Consistency between multiple runs at the same temperature\n",
        "* How predictable vs. surprising the outputs are\n",
        "\n",
        "#### Submit Your Observations\n",
        "\n",
        "* Post your findings, including:\n",
        "* What prompt did you test?\n",
        "* What were the outputs at each temperature setting?\n",
        "* How did temperature affect the creativity, randomness, or consistency of the outputs?\n",
        "* Which temperature setting produced the most useful results for your use case and why?"
      ],
      "metadata": {
        "id": "uGlpBQEPnSXh"
      }
    },
    {
      "cell_type": "code",
      "source": [
        "import openai\n",
        "from openai import OpenAI\n",
        "import pandas as pd\n",
        "import matplotlib.pyplot as plt\n",
        "import json\n",
        "from datetime import datetime\n",
        "import time\n",
        "from IPython.display import display, HTML, Markdown\n",
        "from typing import List, Dict, Any\n",
        "\n",
        "# Get API key from Colab secrets\n",
        "try:\n",
        "    from google.colab import userdata\n",
        "    OPENAI_API_KEY = userdata.get('OPENAI_API_KEY')\n",
        "    print(\"✅ API key loaded from Colab secrets\")\n",
        "except Exception as e:\n",
        "    print(\"⚠️ Could not load API key from secrets.\")\n",
        "    print(\"To add your key: Click the 🔑 key icon in the left sidebar\")\n",
        "    print(\"Add a new secret named 'OPENAI_API_KEY' with your OpenAI API key\")\n",
        "    OPENAI_API_KEY = None"
      ],
      "metadata": {
        "colab": {
          "base_uri": "https://localhost:8080/"
        },
        "id": "sVsrGC_HoFGz",
        "outputId": "a12f2274-9d73-496e-e226-bd1035fd6383"
      },
      "execution_count": 9,
      "outputs": [
        {
          "output_type": "stream",
          "name": "stdout",
          "text": [
            "✅ API key loaded from Colab secrets\n"
          ]
        }
      ]
    },
    {
      "cell_type": "code",
      "source": [
        "class OpenAITemperatureTester:\n",
        "    def __init__(self, api_key: str = None, model: str = \"gpt-3.5-turbo\"):\n",
        "        \"\"\"\n",
        "        Initialize the OpenAI temperature tester.\n",
        "\n",
        "        Args:\n",
        "            api_key: OpenAI API key (will use Colab secret if not provided)\n",
        "            model: OpenAI model to use (gpt-3.5-turbo, gpt-4, etc.)\n",
        "        \"\"\"\n",
        "        self.api_key = api_key or OPENAI_API_KEY\n",
        "        if not self.api_key:\n",
        "            raise ValueError(\"No API key found! Add OPENAI_API_KEY to Colab secrets\")\n",
        "\n",
        "        self.client = OpenAI(api_key=self.api_key)\n",
        "        self.model = model\n",
        "        self.results = {}\n",
        "        print(f\"🤖 Using model: {self.model}\")\n",
        "\n",
        "    def generate_response(self, prompt: str, temperature: float, max_tokens: int = 100) -> str:\n",
        "        \"\"\"Generate a single response with specified temperature.\"\"\"\n",
        "        try:\n",
        "            response = self.client.chat.completions.create(\n",
        "                model=self.model,\n",
        "                messages=[{\"role\": \"user\", \"content\": prompt}],\n",
        "                temperature=temperature,\n",
        "                max_tokens=max_tokens\n",
        "            )\n",
        "            return response.choices[0].message.content.strip()\n",
        "        except Exception as e:\n",
        "            return f\"Error: {str(e)}\"\n",
        "\n",
        "    def test_temperature(\n",
        "        self,\n",
        "        prompt: str,\n",
        "        temperatures: List[float] = [0.1, 0.5, 0.9],\n",
        "        runs_per_temp: int = 3,\n",
        "        max_tokens: int = 100,\n",
        "        delay: float = 0.5\n",
        "    ) -> Dict[str, Any]:\n",
        "        \"\"\"\n",
        "        Test multiple temperature settings with multiple runs each.\n",
        "\n",
        "        Args:\n",
        "            prompt: The prompt to test\n",
        "            temperatures: List of temperature values to test\n",
        "            runs_per_temp: Number of times to run each temperature\n",
        "            max_tokens: Maximum tokens in response\n",
        "            delay: Delay between API calls (to avoid rate limits)\n",
        "        \"\"\"\n",
        "\n",
        "        # Print test configuration\n",
        "        print(\"\\n\" + \"=\"*60)\n",
        "        print(\"🧪 TEMPERATURE TEST CONFIGURATION\")\n",
        "        print(\"=\"*60)\n",
        "        print(f\"📝 Prompt: '{prompt}'\")\n",
        "        print(f\"🌡️  Temperatures: {temperatures}\")\n",
        "        print(f\"🔄 Runs per temperature: {runs_per_temp}\")\n",
        "        print(f\"📊 Max tokens: {max_tokens}\")\n",
        "        print(\"=\"*60 + \"\\n\")\n",
        "\n",
        "        results = {\n",
        "            \"prompt\": prompt,\n",
        "            \"model\": self.model,\n",
        "            \"timestamp\": datetime.now().isoformat(),\n",
        "            \"temperatures\": {},\n",
        "            \"summary\": {}\n",
        "        }\n",
        "\n",
        "        # Test each temperature\n",
        "        for temp in temperatures:\n",
        "            print(f\"Testing Temperature {temp}:\")\n",
        "            responses = []\n",
        "\n",
        "            # Progress bar for runs\n",
        "            for run in range(runs_per_temp):\n",
        "                print(f\"  Run {run + 1}/{runs_per_temp}... \", end=\"\")\n",
        "                response = self.generate_response(prompt, temp, max_tokens)\n",
        "                responses.append(response)\n",
        "                print(\"✅\")\n",
        "                time.sleep(delay)  # Rate limiting\n",
        "\n",
        "            # Calculate metrics\n",
        "            unique_responses = list(set(responses))\n",
        "            uniqueness_ratio = len(unique_responses) / len(responses)\n",
        "\n",
        "            results[\"temperatures\"][temp] = {\n",
        "                \"responses\": responses,\n",
        "                \"unique_responses\": unique_responses,\n",
        "                \"unique_count\": len(unique_responses),\n",
        "                \"total_runs\": len(responses),\n",
        "                \"uniqueness_ratio\": uniqueness_ratio,\n",
        "                \"consistency_ratio\": 1 - uniqueness_ratio + (1/len(responses))\n",
        "            }\n",
        "\n",
        "            print(f\"  → {len(unique_responses)} unique response(s)\\n\")\n",
        "\n",
        "        self.results = results\n",
        "        return results\n",
        "\n",
        "    def visualize_results(self):\n",
        "        \"\"\"Create visualizations of the test results.\"\"\"\n",
        "        if not self.results:\n",
        "            print(\"No results to visualize. Run test_temperature first.\")\n",
        "            return\n",
        "\n",
        "        # Prepare data\n",
        "        temps = list(self.results[\"temperatures\"].keys())\n",
        "        uniqueness = [self.results[\"temperatures\"][t][\"uniqueness_ratio\"] for t in temps]\n",
        "        consistency = [self.results[\"temperatures\"][t][\"consistency_ratio\"] for t in temps]\n",
        "        unique_counts = [self.results[\"temperatures\"][t][\"unique_count\"] for t in temps]\n",
        "\n",
        "        # Create figure with subplots\n",
        "        fig, axes = plt.subplots(1, 3, figsize=(15, 4))\n",
        "\n",
        "        # Plot 1: Uniqueness Ratio\n",
        "        axes[0].plot(temps, uniqueness, 'o-', color='#FF6B6B', linewidth=2, markersize=10)\n",
        "        axes[0].set_xlabel('Temperature', fontsize=12)\n",
        "        axes[0].set_ylabel('Uniqueness Ratio', fontsize=12)\n",
        "        axes[0].set_title('🎨 Creativity vs Temperature', fontsize=14, fontweight='bold')\n",
        "        axes[0].grid(True, alpha=0.3)\n",
        "        axes[0].set_ylim([0, 1.1])\n",
        "        for i, v in enumerate(uniqueness):\n",
        "            axes[0].text(temps[i], v + 0.05, f'{v:.1%}', ha='center')\n",
        "\n",
        "        # Plot 2: Consistency Ratio\n",
        "        axes[1].plot(temps, consistency, 's-', color='#4ECDC4', linewidth=2, markersize=10)\n",
        "        axes[1].set_xlabel('Temperature', fontsize=12)\n",
        "        axes[1].set_ylabel('Consistency Ratio', fontsize=12)\n",
        "        axes[1].set_title('🎯 Consistency vs Temperature', fontsize=14, fontweight='bold')\n",
        "        axes[1].grid(True, alpha=0.3)\n",
        "        axes[1].set_ylim([0, 1.1])\n",
        "        for i, v in enumerate(consistency):\n",
        "            axes[1].text(temps[i], v + 0.05, f'{v:.1%}', ha='center')\n",
        "\n",
        "        # Plot 3: Unique Response Count\n",
        "        bars = axes[2].bar(range(len(temps)), unique_counts, color=['#95E77E', '#FFE66D', '#FF6B6B'])\n",
        "        axes[2].set_xlabel('Temperature', fontsize=12)\n",
        "        axes[2].set_ylabel('Unique Responses', fontsize=12)\n",
        "        axes[2].set_title('📊 Unique Response Count', fontsize=14, fontweight='bold')\n",
        "        axes[2].set_xticks(range(len(temps)))\n",
        "        axes[2].set_xticklabels(temps)\n",
        "        axes[2].grid(True, alpha=0.3, axis='y')\n",
        "\n",
        "        # Add value labels on bars\n",
        "        for bar, count in zip(bars, unique_counts):\n",
        "            height = bar.get_height()\n",
        "            axes[2].text(bar.get_x() + bar.get_width()/2., height + 0.1,\n",
        "                        f'{int(count)}', ha='center', va='bottom', fontweight='bold')\n",
        "\n",
        "        plt.suptitle(f'Temperature Analysis: \"{self.results[\"prompt\"][:50]}...\"',\n",
        "                     fontsize=16, fontweight='bold', y=1.05)\n",
        "        plt.tight_layout()\n",
        "        plt.show()\n",
        "\n",
        "    def display_results_table(self):\n",
        "        \"\"\"Display results in a formatted table.\"\"\"\n",
        "        if not self.results:\n",
        "            print(\"No results to display.\")\n",
        "            return\n",
        "\n",
        "        # Create DataFrame\n",
        "        data = []\n",
        "        for temp, info in self.results[\"temperatures\"].items():\n",
        "            data.append({\n",
        "                \"Temperature\": temp,\n",
        "                \"Unique/Total\": f\"{info['unique_count']}/{info['total_runs']}\",\n",
        "                \"Uniqueness\": f\"{info['uniqueness_ratio']:.1%}\",\n",
        "                \"Consistency\": f\"{info['consistency_ratio']:.1%}\",\n",
        "                \"Creativity Level\": self._get_creativity_level(info['uniqueness_ratio'])\n",
        "            })\n",
        "\n",
        "        df = pd.DataFrame(data)\n",
        "\n",
        "        # Style the DataFrame\n",
        "        styled_df = df.style.set_properties(**{\n",
        "            'text-align': 'center',\n",
        "            'font-size': '12pt',\n",
        "        }).set_table_styles([\n",
        "            {'selector': 'th', 'props': [('font-size', '13pt'), ('font-weight', 'bold')]}\n",
        "        ])\n",
        "\n",
        "        display(HTML(\"<h3>📊 Results Summary</h3>\"))\n",
        "        display(styled_df)\n",
        "\n",
        "        return df\n",
        "\n",
        "    def _get_creativity_level(self, ratio: float) -> str:\n",
        "        \"\"\"Get creativity level description based on uniqueness ratio.\"\"\"\n",
        "        if ratio < 0.3:\n",
        "            return \"🔵 Very Low\"\n",
        "        elif ratio < 0.5:\n",
        "            return \"🟢 Low\"\n",
        "        elif ratio < 0.7:\n",
        "            return \"🟡 Moderate\"\n",
        "        elif ratio < 0.9:\n",
        "            return \"🟠 High\"\n",
        "        else:\n",
        "            return \"🔴 Very High\"\n",
        "\n",
        "    def display_sample_outputs(self):\n",
        "        \"\"\"Display sample outputs for each temperature.\"\"\"\n",
        "        if not self.results:\n",
        "            print(\"No results to display.\")\n",
        "            return\n",
        "\n",
        "        display(HTML(\"<h3 class='bg-dark'>📝 Sample Outputs by Temperature</h3>\"))\n",
        "\n",
        "        for temp, info in self.results[\"temperatures\"].items():\n",
        "            display(HTML(f\"<h4>🌡️ Temperature {temp}</h4>\"))\n",
        "\n",
        "            # Show all unique responses (or first 3 if too many)\n",
        "            unique = info[\"unique_responses\"][:3]\n",
        "            for i, response in enumerate(unique, 1):\n",
        "                display(HTML(f\"\"\"\n",
        "                <div style='background-color: #000000; padding: 10px; margin: 5px 0;\n",
        "                            border-left: 4px solid #4ECDC4; border-radius: 5px;'>\n",
        "                    <strong>Response {i}:</strong> {response}\n",
        "                </div>\n",
        "                \"\"\"))\n",
        "\n",
        "            if len(info[\"unique_responses\"]) > 3:\n",
        "                display(HTML(f\"<i>... and {len(info['unique_responses'])-3} more unique response(s)</i>\"))\n",
        "\n",
        "    def generate_report(self) -> str:\n",
        "        \"\"\"Generate a formatted report for submission.\"\"\"\n",
        "        if not self.results:\n",
        "            return \"No results available.\"\n",
        "\n",
        "        report = []\n",
        "        report.append(\"# 📊 Temperature Testing Report\\n\\n\")\n",
        "\n",
        "        # Test details\n",
        "        report.append(\"## Test Configuration\\n\")\n",
        "        report.append(f\"- **Prompt:** \\\"{self.results['prompt']}\\\"\\n\")\n",
        "        report.append(f\"- **Model:** {self.results['model']}\\n\")\n",
        "        report.append(f\"- **Temperatures tested:** {list(self.results['temperatures'].keys())}\\n\")\n",
        "        report.append(f\"- **Timestamp:** {self.results['timestamp']}\\n\\n\")\n",
        "\n",
        "        # Raw outputs\n",
        "        report.append(\"## Raw Outputs\\n\")\n",
        "        for temp, info in self.results[\"temperatures\"].items():\n",
        "            report.append(f\"\\n### Temperature {temp}\\n\")\n",
        "            for i, response in enumerate(info[\"responses\"], 1):\n",
        "                report.append(f\"**Run {i}:** {response}\\n\\n\")\n",
        "\n",
        "        # Analysis\n",
        "        report.append(\"## Analysis\\n\\n\")\n",
        "\n",
        "        # Find best settings\n",
        "        temps = list(self.results[\"temperatures\"].keys())\n",
        "        consistency_scores = [self.results[\"temperatures\"][t][\"consistency_ratio\"] for t in temps]\n",
        "        creativity_scores = [self.results[\"temperatures\"][t][\"uniqueness_ratio\"] for t in temps]\n",
        "\n",
        "        most_consistent = temps[consistency_scores.index(max(consistency_scores))]\n",
        "        most_creative = temps[creativity_scores.index(max(creativity_scores))]\n",
        "\n",
        "        report.append(\"### Key Findings\\n\")\n",
        "        report.append(f\"- **Most Consistent:** Temperature {most_consistent} \")\n",
        "        report.append(f\"({max(consistency_scores):.1%} consistency)\\n\")\n",
        "        report.append(f\"- **Most Creative:** Temperature {most_creative} \")\n",
        "        report.append(f\"({max(creativity_scores):.1%} uniqueness)\\n\\n\")\n",
        "\n",
        "        # Observations\n",
        "        report.append(\"### Observations\\n\")\n",
        "        report.append(\"- **Low Temperature (0.1):** Produced highly consistent, predictable outputs with minimal variation\\n\")\n",
        "        report.append(\"- **Medium Temperature (0.5):** Balanced creativity and consistency, good for general use\\n\")\n",
        "        report.append(\"- **High Temperature (0.9):** Maximum creativity but less predictable, good for brainstorming\\n\\n\")\n",
        "\n",
        "        # Recommendation\n",
        "        report.append(\"### Recommendation\\n\")\n",
        "        report.append(\"For motivational quotes, **temperature 0.5** provides the best balance \")\n",
        "        report.append(\"between creativity and coherence, producing varied yet meaningful outputs.\\n\")\n",
        "\n",
        "        return \"\".join(report)\n",
        "\n",
        "    def save_results(self, filename: str = None):\n",
        "        \"\"\"Save results to a JSON file.\"\"\"\n",
        "        if not self.results:\n",
        "            print(\"No results to save.\")\n",
        "            return\n",
        "\n",
        "        if filename is None:\n",
        "            timestamp = datetime.now().strftime(\"%Y%m%d_%H%M%S\")\n",
        "            filename = f\"temperature_test_{timestamp}.json\"\n",
        "\n",
        "        # Add /content/ prefix for Colab\n",
        "        if not filename.startswith('/content/'):\n",
        "            filename = f\"/content/{filename}\"\n",
        "\n",
        "        with open(filename, 'w', encoding='utf-8') as f:\n",
        "            json.dump(self.results, f, indent=2, ensure_ascii=False)\n",
        "\n",
        "        print(f\"💾 Results saved to: {filename}\")\n",
        "        return filename"
      ],
      "metadata": {
        "id": "vw7_2jV8nPSH"
      },
      "execution_count": 16,
      "outputs": []
    },
    {
      "cell_type": "code",
      "source": [
        "def run_temperature_test():\n",
        "    \"\"\"\n",
        "    Main function to run the temperature test with default settings.\n",
        "    Edit the parameters below to customize your test.\n",
        "    \"\"\"\n",
        "\n",
        "    # === CONFIGURATION (Edit these values) ===\n",
        "    TEST_PROMPT = \"Write a short motivational quote about learning.\"\n",
        "\n",
        "    # Alternative prompts to try:\n",
        "    # TEST_PROMPT = \"Generate a creative name for a coffee shop.\"\n",
        "    # TEST_PROMPT = \"Write a haiku about artificial intelligence.\"\n",
        "    # TEST_PROMPT = \"Describe the color blue to someone who has never seen it.\"\n",
        "    # TEST_PROMPT = \"Create a one-sentence story with a twist ending.\"\n",
        "\n",
        "    TEMPERATURES = [0.1, 0.5, 0.9]  # You can add more: [0.0, 0.3, 0.5, 0.7, 1.0]\n",
        "    RUNS_PER_TEMP = 3  # Increase for more statistical significance\n",
        "    MAX_TOKENS = 100  # Maximum length of each response\n",
        "    MODEL = \"gpt-3.5-turbo\"  # Or \"gpt-4\" if you have access\n",
        "\n",
        "    # === RUN THE TEST ===\n",
        "    print(\"🚀 Starting OpenAI Temperature Test\")\n",
        "    print(\"=\"*60)\n",
        "\n",
        "    try:\n",
        "        # Initialize tester\n",
        "        tester = OpenAITemperatureTester(model=MODEL)\n",
        "\n",
        "        # Run the test\n",
        "        results = tester.test_temperature(\n",
        "            prompt=TEST_PROMPT,\n",
        "            temperatures=TEMPERATURES,\n",
        "            runs_per_temp=RUNS_PER_TEMP,\n",
        "            max_tokens=MAX_TOKENS,\n",
        "            delay=0.5  # Delay between API calls\n",
        "        )\n",
        "\n",
        "        print(\"\\n\" + \"=\"*60)\n",
        "        print(\"📊 RESULTS\")\n",
        "        print(\"=\"*60 + \"\\n\")\n",
        "\n",
        "        # Display results table\n",
        "        df = tester.display_results_table()\n",
        "\n",
        "        # Show visualizations\n",
        "        tester.visualize_results()\n",
        "\n",
        "        # Display sample outputs\n",
        "        tester.display_sample_outputs()\n",
        "\n",
        "        # Generate and display report\n",
        "        report = tester.generate_report()\n",
        "        display(Markdown(report))\n",
        "\n",
        "        # Save results\n",
        "        filename = tester.save_results()\n",
        "\n",
        "        # Optional: Download results\n",
        "        print(\"\\n\" + \"=\"*60)\n",
        "        download = input(\"📥 Download results file? (y/n): \")\n",
        "        if download.lower() == 'y':\n",
        "            from google.colab import files\n",
        "            files.download(filename)\n",
        "\n",
        "        return tester\n",
        "\n",
        "    except Exception as e:\n",
        "        print(f\"❌ Error: {e}\")\n",
        "        if \"API key\" in str(e):\n",
        "            print(\"\\n📝 To add your API key:\")\n",
        "            print(\"1. Click the 🔑 key icon in the left sidebar\")\n",
        "            print(\"2. Add a new secret named 'OPENAI_API_KEY'\")\n",
        "            print(\"3. Paste your OpenAI API key as the value\")\n",
        "            print(\"4. Run this cell again\")\n",
        "        return None"
      ],
      "metadata": {
        "id": "X7if3neynV1f"
      },
      "execution_count": 17,
      "outputs": []
    },
    {
      "cell_type": "code",
      "source": [
        "if __name__ == \"__main__\":\n",
        "    # Run the test\n",
        "    tester = run_temperature_test()"
      ],
      "metadata": {
        "colab": {
          "base_uri": "https://localhost:8080/",
          "height": 1000
        },
        "id": "WXGJWNmlpRyJ",
        "outputId": "895c6942-58a0-4f9d-973c-7e73faf4b818"
      },
      "execution_count": 18,
      "outputs": [
        {
          "output_type": "stream",
          "name": "stdout",
          "text": [
            "🚀 Starting OpenAI Temperature Test\n",
            "============================================================\n",
            "🤖 Using model: gpt-3.5-turbo\n",
            "\n",
            "============================================================\n",
            "🧪 TEMPERATURE TEST CONFIGURATION\n",
            "============================================================\n",
            "📝 Prompt: 'Write a short motivational quote about learning.'\n",
            "🌡️  Temperatures: [0.1, 0.5, 0.9]\n",
            "🔄 Runs per temperature: 3\n",
            "📊 Max tokens: 100\n",
            "============================================================\n",
            "\n",
            "Testing Temperature 0.1:\n",
            "  Run 1/3... ✅\n",
            "  Run 2/3... ✅\n",
            "  Run 3/3... ✅\n",
            "  → 3 unique response(s)\n",
            "\n",
            "Testing Temperature 0.5:\n",
            "  Run 1/3... ✅\n",
            "  Run 2/3... ✅\n",
            "  Run 3/3... ✅\n",
            "  → 2 unique response(s)\n",
            "\n",
            "Testing Temperature 0.9:\n",
            "  Run 1/3... ✅\n",
            "  Run 2/3... ✅\n",
            "  Run 3/3... ✅\n",
            "  → 3 unique response(s)\n",
            "\n",
            "\n",
            "============================================================\n",
            "📊 RESULTS\n",
            "============================================================\n",
            "\n"
          ]
        },
        {
          "output_type": "display_data",
          "data": {
            "text/plain": [
              "<IPython.core.display.HTML object>"
            ],
            "text/html": [
              "<h3>📊 Results Summary</h3>"
            ]
          },
          "metadata": {}
        },
        {
          "output_type": "display_data",
          "data": {
            "text/plain": [
              "<pandas.io.formats.style.Styler at 0x7ca92696f950>"
            ],
            "text/html": [
              "<style type=\"text/css\">\n",
              "#T_acb04 th {\n",
              "  font-size: 13pt;\n",
              "  font-weight: bold;\n",
              "}\n",
              "#T_acb04_row0_col0, #T_acb04_row0_col1, #T_acb04_row0_col2, #T_acb04_row0_col3, #T_acb04_row0_col4, #T_acb04_row1_col0, #T_acb04_row1_col1, #T_acb04_row1_col2, #T_acb04_row1_col3, #T_acb04_row1_col4, #T_acb04_row2_col0, #T_acb04_row2_col1, #T_acb04_row2_col2, #T_acb04_row2_col3, #T_acb04_row2_col4 {\n",
              "  text-align: center;\n",
              "  font-size: 12pt;\n",
              "}\n",
              "</style>\n",
              "<table id=\"T_acb04\" class=\"dataframe\">\n",
              "  <thead>\n",
              "    <tr>\n",
              "      <th class=\"blank level0\" >&nbsp;</th>\n",
              "      <th id=\"T_acb04_level0_col0\" class=\"col_heading level0 col0\" >Temperature</th>\n",
              "      <th id=\"T_acb04_level0_col1\" class=\"col_heading level0 col1\" >Unique/Total</th>\n",
              "      <th id=\"T_acb04_level0_col2\" class=\"col_heading level0 col2\" >Uniqueness</th>\n",
              "      <th id=\"T_acb04_level0_col3\" class=\"col_heading level0 col3\" >Consistency</th>\n",
              "      <th id=\"T_acb04_level0_col4\" class=\"col_heading level0 col4\" >Creativity Level</th>\n",
              "    </tr>\n",
              "  </thead>\n",
              "  <tbody>\n",
              "    <tr>\n",
              "      <th id=\"T_acb04_level0_row0\" class=\"row_heading level0 row0\" >0</th>\n",
              "      <td id=\"T_acb04_row0_col0\" class=\"data row0 col0\" >0.100000</td>\n",
              "      <td id=\"T_acb04_row0_col1\" class=\"data row0 col1\" >3/3</td>\n",
              "      <td id=\"T_acb04_row0_col2\" class=\"data row0 col2\" >100.0%</td>\n",
              "      <td id=\"T_acb04_row0_col3\" class=\"data row0 col3\" >33.3%</td>\n",
              "      <td id=\"T_acb04_row0_col4\" class=\"data row0 col4\" >🔴 Very High</td>\n",
              "    </tr>\n",
              "    <tr>\n",
              "      <th id=\"T_acb04_level0_row1\" class=\"row_heading level0 row1\" >1</th>\n",
              "      <td id=\"T_acb04_row1_col0\" class=\"data row1 col0\" >0.500000</td>\n",
              "      <td id=\"T_acb04_row1_col1\" class=\"data row1 col1\" >2/3</td>\n",
              "      <td id=\"T_acb04_row1_col2\" class=\"data row1 col2\" >66.7%</td>\n",
              "      <td id=\"T_acb04_row1_col3\" class=\"data row1 col3\" >66.7%</td>\n",
              "      <td id=\"T_acb04_row1_col4\" class=\"data row1 col4\" >🟡 Moderate</td>\n",
              "    </tr>\n",
              "    <tr>\n",
              "      <th id=\"T_acb04_level0_row2\" class=\"row_heading level0 row2\" >2</th>\n",
              "      <td id=\"T_acb04_row2_col0\" class=\"data row2 col0\" >0.900000</td>\n",
              "      <td id=\"T_acb04_row2_col1\" class=\"data row2 col1\" >3/3</td>\n",
              "      <td id=\"T_acb04_row2_col2\" class=\"data row2 col2\" >100.0%</td>\n",
              "      <td id=\"T_acb04_row2_col3\" class=\"data row2 col3\" >33.3%</td>\n",
              "      <td id=\"T_acb04_row2_col4\" class=\"data row2 col4\" >🔴 Very High</td>\n",
              "    </tr>\n",
              "  </tbody>\n",
              "</table>\n"
            ]
          },
          "metadata": {}
        },
        {
          "output_type": "stream",
          "name": "stderr",
          "text": [
            "/tmp/ipython-input-3518671852.py:152: UserWarning: Glyph 127912 (\\N{ARTIST PALETTE}) missing from font(s) DejaVu Sans.\n",
            "  plt.tight_layout()\n",
            "/tmp/ipython-input-3518671852.py:152: UserWarning: Glyph 127919 (\\N{DIRECT HIT}) missing from font(s) DejaVu Sans.\n",
            "  plt.tight_layout()\n",
            "/tmp/ipython-input-3518671852.py:152: UserWarning: Glyph 128202 (\\N{BAR CHART}) missing from font(s) DejaVu Sans.\n",
            "  plt.tight_layout()\n",
            "/usr/local/lib/python3.12/dist-packages/IPython/core/pylabtools.py:151: UserWarning: Glyph 127912 (\\N{ARTIST PALETTE}) missing from font(s) DejaVu Sans.\n",
            "  fig.canvas.print_figure(bytes_io, **kw)\n",
            "/usr/local/lib/python3.12/dist-packages/IPython/core/pylabtools.py:151: UserWarning: Glyph 127919 (\\N{DIRECT HIT}) missing from font(s) DejaVu Sans.\n",
            "  fig.canvas.print_figure(bytes_io, **kw)\n",
            "/usr/local/lib/python3.12/dist-packages/IPython/core/pylabtools.py:151: UserWarning: Glyph 128202 (\\N{BAR CHART}) missing from font(s) DejaVu Sans.\n",
            "  fig.canvas.print_figure(bytes_io, **kw)\n"
          ]
        },
        {
          "output_type": "display_data",
          "data": {
            "text/plain": [
              "<Figure size 1500x400 with 3 Axes>"
            ],
            "image/png": "[encoded data removed]"
          },
          "metadata": {}
        },
        {
          "output_type": "display_data",
          "data": {
            "text/plain": [
              "<IPython.core.display.HTML object>"
            ],
            "text/html": [
              "<h3 class='bg-dark'>📝 Sample Outputs by Temperature</h3>"
            ]
          },
          "metadata": {}
        },
        {
          "output_type": "display_data",
          "data": {
            "text/plain": [
              "<IPython.core.display.HTML object>"
            ],
            "text/html": [
              "<h4>🌡️ Temperature 0.1</h4>"
            ]
          },
          "metadata": {}
        },
        {
          "output_type": "display_data",
          "data": {
            "text/plain": [
              "<IPython.core.display.HTML object>"
            ],
            "text/html": [
              "\n",
              "                <div style='background-color: #000000; padding: 10px; margin: 5px 0; \n",
              "                            border-left: 4px solid #4ECDC4; border-radius: 5px;'>\n",
              "                    <strong>Response 1:</strong> \"Learning is the key to unlocking your full potential and achieving your dreams. Embrace every opportunity to grow and expand your knowledge, for the journey of learning is the path to success.\"\n",
              "                </div>\n",
              "                "
            ]
          },
          "metadata": {}
        },
        {
          "output_type": "display_data",
          "data": {
            "text/plain": [
              "<IPython.core.display.HTML object>"
            ],
            "text/html": [
              "\n",
              "                <div style='background-color: #000000; padding: 10px; margin: 5px 0; \n",
              "                            border-left: 4px solid #4ECDC4; border-radius: 5px;'>\n",
              "                    <strong>Response 2:</strong> \"Learning is the key to unlocking your full potential and achieving your dreams. Embrace every opportunity to grow and expand your knowledge, for the journey of learning is the greatest adventure of all.\"\n",
              "                </div>\n",
              "                "
            ]
          },
          "metadata": {}
        },
        {
          "output_type": "display_data",
          "data": {
            "text/plain": [
              "<IPython.core.display.HTML object>"
            ],
            "text/html": [
              "\n",
              "                <div style='background-color: #000000; padding: 10px; margin: 5px 0; \n",
              "                            border-left: 4px solid #4ECDC4; border-radius: 5px;'>\n",
              "                    <strong>Response 3:</strong> \"Learning is the key to unlocking your full potential and achieving your dreams. Embrace every opportunity to grow and expand your knowledge.\"\n",
              "                </div>\n",
              "                "
            ]
          },
          "metadata": {}
        },
        {
          "output_type": "display_data",
          "data": {
            "text/plain": [
              "<IPython.core.display.HTML object>"
            ],
            "text/html": [
              "<h4>🌡️ Temperature 0.5</h4>"
            ]
          },
          "metadata": {}
        },
        {
          "output_type": "display_data",
          "data": {
            "text/plain": [
              "<IPython.core.display.HTML object>"
            ],
            "text/html": [
              "\n",
              "                <div style='background-color: #000000; padding: 10px; margin: 5px 0; \n",
              "                            border-left: 4px solid #4ECDC4; border-radius: 5px;'>\n",
              "                    <strong>Response 1:</strong> \"Learning is the key to unlocking your full potential and achieving your dreams. Embrace every opportunity to expand your knowledge and grow.\"\n",
              "                </div>\n",
              "                "
            ]
          },
          "metadata": {}
        },
        {
          "output_type": "display_data",
          "data": {
            "text/plain": [
              "<IPython.core.display.HTML object>"
            ],
            "text/html": [
              "\n",
              "                <div style='background-color: #000000; padding: 10px; margin: 5px 0; \n",
              "                            border-left: 4px solid #4ECDC4; border-radius: 5px;'>\n",
              "                    <strong>Response 2:</strong> \"Learning is the key to unlocking your full potential and achieving your dreams. Embrace the journey of growth and never stop seeking knowledge.\"\n",
              "                </div>\n",
              "                "
            ]
          },
          "metadata": {}
        },
        {
          "output_type": "display_data",
          "data": {
            "text/plain": [
              "<IPython.core.display.HTML object>"
            ],
            "text/html": [
              "<h4>🌡️ Temperature 0.9</h4>"
            ]
          },
          "metadata": {}
        },
        {
          "output_type": "display_data",
          "data": {
            "text/plain": [
              "<IPython.core.display.HTML object>"
            ],
            "text/html": [
              "\n",
              "                <div style='background-color: #000000; padding: 10px; margin: 5px 0; \n",
              "                            border-left: 4px solid #4ECDC4; border-radius: 5px;'>\n",
              "                    <strong>Response 1:</strong> \"Learning is the key to unlocking your potential and realizing your dreams. Embrace the journey of self-improvement and never stop seeking knowledge.\"\n",
              "                </div>\n",
              "                "
            ]
          },
          "metadata": {}
        },
        {
          "output_type": "display_data",
          "data": {
            "text/plain": [
              "<IPython.core.display.HTML object>"
            ],
            "text/html": [
              "\n",
              "                <div style='background-color: #000000; padding: 10px; margin: 5px 0; \n",
              "                            border-left: 4px solid #4ECDC4; border-radius: 5px;'>\n",
              "                    <strong>Response 2:</strong> \"Learning is the key to unlocking your full potential and achieving your dreams. Embrace the journey and never stop seeking knowledge.\"\n",
              "                </div>\n",
              "                "
            ]
          },
          "metadata": {}
        },
        {
          "output_type": "display_data",
          "data": {
            "text/plain": [
              "<IPython.core.display.HTML object>"
            ],
            "text/html": [
              "\n",
              "                <div style='background-color: #000000; padding: 10px; margin: 5px 0; \n",
              "                            border-left: 4px solid #4ECDC4; border-radius: 5px;'>\n",
              "                    <strong>Response 3:</strong> \"Every day is a chance to learn something new and grow a little bit more. Embrace the process and keep pushing yourself to reach your full potential.\"\n",
              "                </div>\n",
              "                "
            ]
          },
          "metadata": {}
        },
        {
          "output_type": "display_data",
          "data": {
            "text/plain": [
              "<IPython.core.display.Markdown object>"
            ],
            "text/markdown": "# 📊 Temperature Testing Report\n\n## Test Configuration\n- **Prompt:** \"Write a short motivational quote about learning.\"\n- **Model:** gpt-3.5-turbo\n- **Temperatures tested:** [0.1, 0.5, 0.9]\n- **Timestamp:** 2025-09-22T18:21:27.382166\n\n## Raw Outputs\n\n### Temperature 0.1\n**Run 1:** \"Learning is the key to unlocking your full potential and achieving your dreams. Embrace every opportunity to grow and expand your knowledge, for the journey of learning is the greatest adventure of all.\"\n\n**Run 2:** \"Learning is the key to unlocking your full potential and achieving your dreams. Embrace every opportunity to grow and expand your knowledge, for the journey of learning is the path to success.\"\n\n**Run 3:** \"Learning is the key to unlocking your full potential and achieving your dreams. Embrace every opportunity to grow and expand your knowledge.\"\n\n\n### Temperature 0.5\n**Run 1:** \"Learning is the key to unlocking your full potential and achieving your dreams. Embrace the journey of growth and never stop seeking knowledge.\"\n\n**Run 2:** \"Learning is the key to unlocking your full potential and achieving your dreams. Embrace every opportunity to expand your knowledge and grow.\"\n\n**Run 3:** \"Learning is the key to unlocking your full potential and achieving your dreams. Embrace the journey of growth and never stop seeking knowledge.\"\n\n\n### Temperature 0.9\n**Run 1:** \"Learning is the key to unlocking your full potential and achieving your dreams. Embrace the journey and never stop seeking knowledge.\"\n\n**Run 2:** \"Every day is a chance to learn something new and grow a little bit more. Embrace the process and keep pushing yourself to reach your full potential.\"\n\n**Run 3:** \"Learning is the key to unlocking your potential and realizing your dreams. Embrace the journey of self-improvement and never stop seeking knowledge.\"\n\n## Analysis\n\n### Key Findings\n- **Most Consistent:** Temperature 0.5 (66.7% consistency)\n- **Most Creative:** Temperature 0.1 (100.0% uniqueness)\n\n### Observations\n- **Low Temperature (0.1):** Produced highly consistent, predictable outputs with minimal variation\n- **Medium Temperature (0.5):** Balanced creativity and consistency, good for general use\n- **High Temperature (0.9):** Maximum creativity but less predictable, good for brainstorming\n\n### Recommendation\nFor motivational quotes, **temperature 0.5** provides the best balance between creativity and coherence, producing varied yet meaningful outputs.\n"
          },
          "metadata": {}
        },
        {
          "name": "stdout",
          "output_type": "stream",
          "text": [
            "💾 Results saved to: /content/temperature_test_20250922_182137.json\n",
            "\n",
            "============================================================\n",
            "📥 Download results file? (y/n): y\n"
          ]
        },
        {
          "output_type": "display_data",
          "data": {
            "text/plain": [
              "<IPython.core.display.Javascript object>"
            ],
            "application/javascript": [
              "\n",
              "    async function download(id, filename, size) {\n",
              "      if (!google.colab.kernel.accessAllowed) {\n",
              "        return;\n",
              "      }\n",
              "      const div = document.createElement('div');\n",
              "      const label = document.createElement('label');\n",
              "      label.textContent = `Downloading \"${filename}\": `;\n",
              "      div.appendChild(label);\n",
              "      const progress = document.createElement('progress');\n",
              "      progress.max = size;\n",
              "      div.appendChild(progress);\n",
              "      document.body.appendChild(div);\n",
              "\n",
              "      const buffers = [];\n",
              "      let downloaded = 0;\n",
              "\n",
              "      const channel = await google.colab.kernel.comms.open(id);\n",
              "      // Send a message to notify the kernel that we're ready.\n",
              "      channel.send({})\n",
              "\n",
              "      for await (const message of channel.messages) {\n",
              "        // Send a message to notify the kernel that we're ready.\n",
              "        channel.send({})\n",
              "        if (message.buffers) {\n",
              "          for (const buffer of message.buffers) {\n",
              "            buffers.push(buffer);\n",
              "            downloaded += buffer.byteLength;\n",
              "            progress.value = downloaded;\n",
              "          }\n",
              "        }\n",
              "      }\n",
              "      const blob = new Blob(buffers, {type: 'application/binary'});\n",
              "      const a = document.createElement('a');\n",
              "      a.href = window.URL.createObjectURL(blob);\n",
              "      a.download = filename;\n",
              "      div.appendChild(a);\n",
              "      a.click();\n",
              "      div.remove();\n",
              "    }\n",
              "  "
            ]
          },
          "metadata": {}
        },
        {
          "output_type": "display_data",
          "data": {
            "text/plain": [
              "<IPython.core.display.Javascript object>"
            ],
            "application/javascript": [
              "download(\"download_47c2f4dc-fe87-4d34-ba4f-8539a90edd8a\", \"temperature_test_20250922_182137.json\", 3732)"
            ]
          },
          "metadata": {}
        }
      ]
    },
    {
      "cell_type": "code",
      "source": [],
      "metadata": {
        "id": "5EYF-cTspU0T"
      },
      "execution_count": null,
      "outputs": []
    }
  ]
}